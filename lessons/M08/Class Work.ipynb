{
 "cells": [
  {
   "cell_type": "code",
   "execution_count": 1,
   "id": "fd2a3f32-8231-4619-aaf3-b7d7f851a11b",
   "metadata": {
    "tags": []
   },
   "outputs": [
    {
     "name": "stdout",
     "output_type": "stream",
     "text": [
      "Result: 5.0\n",
      "Error: Cannot divide by zero.\n"
     ]
    }
   ],
   "source": [
    "def divide_numbers(a, b):\n",
    "    try:\n",
    "        result = a / b\n",
    "        return f\"Result: {result}\"\n",
    "    except ZeroDivisionError:\n",
    "        return \"Error: Cannot divide by zero.\"\n",
    "\n",
    "test_cases = [(10, 2), (10, 0)]\n",
    "\n",
    "for a, b in test_cases:\n",
    "    print(divide_numbers(a, b))"
   ]
  },
  {
   "cell_type": "code",
   "execution_count": 3,
   "id": "9d6f29e8-f317-40ed-9bb8-84b7e853f26f",
   "metadata": {
    "tags": []
   },
   "outputs": [],
   "source": [
    "x2 = 2 + 2 == 4\n",
    "assert x2, \"This is not 1984!\""
   ]
  },
  {
   "cell_type": "code",
   "execution_count": 4,
   "id": "f86579af-fdd5-4d03-8ff9-ea59a3ea7cb7",
   "metadata": {
    "tags": []
   },
   "outputs": [
    {
     "ename": "AssertionError",
     "evalue": "This is not 1984!",
     "output_type": "error",
     "traceback": [
      "\u001b[0;31m---------------------------------------------------------------------------\u001b[0m",
      "\u001b[0;31mAssertionError\u001b[0m                            Traceback (most recent call last)",
      "Cell \u001b[0;32mIn[4], line 2\u001b[0m\n\u001b[1;32m      1\u001b[0m x3 \u001b[38;5;241m=\u001b[39m \u001b[38;5;241m2\u001b[39m \u001b[38;5;241m+\u001b[39m \u001b[38;5;241m2\u001b[39m \u001b[38;5;241m==\u001b[39m \u001b[38;5;241m5\u001b[39m\n\u001b[0;32m----> 2\u001b[0m \u001b[38;5;28;01massert\u001b[39;00m x3, \u001b[38;5;124m\"\u001b[39m\u001b[38;5;124mThis is not 1984!\u001b[39m\u001b[38;5;124m\"\u001b[39m\n",
      "\u001b[0;31mAssertionError\u001b[0m: This is not 1984!"
     ]
    }
   ],
   "source": [
    "x3 = 2 + 2 == 5\n",
    "assert x3, \"This is not 1984!\""
   ]
  },
  {
   "cell_type": "code",
   "execution_count": 8,
   "id": "107b36c2-b6fc-4419-8966-294b4509a6ed",
   "metadata": {
    "tags": []
   },
   "outputs": [],
   "source": [
    "import math\n",
    "from math import pi as pi\n",
    "\n",
    "def area(radius):\n",
    "    \"\"\"Calculate teh area of a circle based on the given radisu.\"\"\"\n",
    "    return pi * radius**2"
   ]
  },
  {
   "cell_type": "code",
   "execution_count": 9,
   "id": "6cd274bf-b298-4f4a-9546-549d35f9ef64",
   "metadata": {
    "tags": []
   },
   "outputs": [],
   "source": [
    "assert isinstance(area(1), float), 'Test 1 failed!'\n",
    "assert area(0) == 0, 'Test 2 failed!'"
   ]
  }
 ],
 "metadata": {
  "kernelspec": {
   "display_name": "Python 3 (ipykernel)",
   "language": "python",
   "name": "python3"
  },
  "language_info": {
   "codemirror_mode": {
    "name": "ipython",
    "version": 3
   },
   "file_extension": ".py",
   "mimetype": "text/x-python",
   "name": "python",
   "nbconvert_exporter": "python",
   "pygments_lexer": "ipython3",
   "version": "3.11.4"
  }
 },
 "nbformat": 4,
 "nbformat_minor": 5
}
