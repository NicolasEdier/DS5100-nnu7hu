{
 "cells": [
  {
   "cell_type": "code",
   "execution_count": 2,
   "id": "01f7b680-d3c3-4ae4-8bc1-7f64bc54cfca",
   "metadata": {
    "tags": []
   },
   "outputs": [],
   "source": [
    "class MyClass():\n",
    "    \"\"\"Example class for Exercise 7.1\"\"\"\n",
    "    \n",
    "    att1 = \"foo\"\n",
    "    \n",
    "    def __init__(self, att2):\n",
    "        self.att2 = att2\n",
    "        \n",
    "    def add(self):\n",
    "        self.msg = self.att1 + ' ' + self.att2\n",
    "        print(self.msg)"
   ]
  },
  {
   "cell_type": "code",
   "execution_count": 3,
   "id": "dd09d475-7ab6-4818-a965-3827dbc89ad9",
   "metadata": {
    "tags": []
   },
   "outputs": [
    {
     "data": {
      "text/plain": [
       "('foo', 'this is not a pipe')"
      ]
     },
     "execution_count": 3,
     "metadata": {},
     "output_type": "execute_result"
    }
   ],
   "source": [
    "obj_1 = MyClass(\"this is not a pipe\")\n",
    "obj_1.att1, obj_1.att2"
   ]
  },
  {
   "cell_type": "code",
   "execution_count": 4,
   "id": "054233c7-30b4-4f2d-afb8-df0a40493274",
   "metadata": {
    "tags": []
   },
   "outputs": [
    {
     "name": "stdout",
     "output_type": "stream",
     "text": [
      "foo this is not a pipe\n"
     ]
    }
   ],
   "source": [
    "obj_1.add()"
   ]
  },
  {
   "cell_type": "code",
   "execution_count": 13,
   "id": "eb6e2a50-474a-4157-b721-e5c7aa4bf3c0",
   "metadata": {
    "tags": []
   },
   "outputs": [],
   "source": [
    "import pandas as pd\n",
    "\n",
    "class Student:\n",
    "    \n",
    "    def __init__(self, student_name, student_id):\n",
    "        self.name = student_name\n",
    "        self.id = student_id\n",
    "        self.grades = pd.Series(dtype=float)\n",
    "        \n",
    "    def add_grade(self, assignment, grade):\n",
    "        self.grades.loc[assignment] = grade\n",
    "        \n",
    "    def show_grades(self):\n",
    "        self.grades.plot.bar(title=f\"Grades for {self.name} ({self.id})\")"
   ]
  },
  {
   "cell_type": "code",
   "execution_count": 33,
   "id": "7c25849f-f7d6-498a-812d-d8f6dce96225",
   "metadata": {
    "tags": []
   },
   "outputs": [],
   "source": [
    "student1 = Student(\"Nicolas E\", \"749685\")\n",
    "student1.add_grade(\"HW01\", \"92\")\n",
    "student1.add_grade(\"HW02\", \"99\")\n",
    "student1.add_grade(\"HW03\", \"96\")\n",
    "student1.add_grade(\"HW04\", \"52\")\n",
    "#student1.show_grades()"
   ]
  },
  {
   "cell_type": "code",
   "execution_count": 36,
   "id": "c5034c4b-e837-436a-9014-7dabe9e3a993",
   "metadata": {
    "tags": []
   },
   "outputs": [],
   "source": [
    "class V3():\n",
    "    \n",
    "    def __init__(self, instance_size, num_vcpus, memory, disk_space):\n",
    "        self.instance_size = instance_size\n",
    "        self.num_vcpus = num_vcpus\n",
    "        self.memory = memory\n",
    "        self.disk_space = disk_space\n",
    "        \n",
    "    def add_disk_space(self, amt_to_add):\n",
    "        self.disk_space += amt_to_add\n",
    "        \n",
    "    def has_enough_disk_space(self, amt_required):\n",
    "        if self.disk_space >= amt_required:\n",
    "            print(\"You have enough disk space!\")\n",
    "            return True\n",
    "        else:\n",
    "            print(\"You don't have enough disk space!\")\n",
    "            return False"
   ]
  },
  {
   "cell_type": "code",
   "execution_count": 37,
   "id": "cef0a19b-69af-4257-8041-7881abcd54b6",
   "metadata": {
    "tags": []
   },
   "outputs": [],
   "source": [
    "my_v3 = V3('large', 32, 256, 1.)\n",
    "my_v3.add_disk_space(2.)"
   ]
  },
  {
   "cell_type": "code",
   "execution_count": 38,
   "id": "be081f03-f992-4c09-bddb-26c9308f5659",
   "metadata": {
    "tags": []
   },
   "outputs": [
    {
     "data": {
      "text/plain": [
       "3.0"
      ]
     },
     "execution_count": 38,
     "metadata": {},
     "output_type": "execute_result"
    }
   ],
   "source": [
    "my_v3.disk_space"
   ]
  },
  {
   "cell_type": "code",
   "execution_count": 39,
   "id": "d6e50e91-f9ac-4406-9ba3-87ca52bbc209",
   "metadata": {
    "tags": []
   },
   "outputs": [
    {
     "name": "stdout",
     "output_type": "stream",
     "text": [
      "You don't have enough disk space!\n"
     ]
    },
    {
     "data": {
      "text/plain": [
       "False"
      ]
     },
     "execution_count": 39,
     "metadata": {},
     "output_type": "execute_result"
    }
   ],
   "source": [
    "my_v3.has_enough_disk_space(10.)"
   ]
  }
 ],
 "metadata": {
  "kernelspec": {
   "display_name": "Python 3 (ipykernel)",
   "language": "python",
   "name": "python3"
  },
  "language_info": {
   "codemirror_mode": {
    "name": "ipython",
    "version": 3
   },
   "file_extension": ".py",
   "mimetype": "text/x-python",
   "name": "python",
   "nbconvert_exporter": "python",
   "pygments_lexer": "ipython3",
   "version": "3.11.4"
  }
 },
 "nbformat": 4,
 "nbformat_minor": 5
}
