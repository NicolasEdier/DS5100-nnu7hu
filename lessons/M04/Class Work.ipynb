{
 "cells": [
  {
   "cell_type": "code",
   "execution_count": 2,
   "id": "c87ac5e8-a2bd-42a6-9f97-0d00d65cb61f",
   "metadata": {
    "tags": []
   },
   "outputs": [
    {
     "name": "stdout",
     "output_type": "stream",
     "text": [
      "True\n"
     ]
    }
   ],
   "source": [
    "def check_string_length(s, n):\n",
    "    return len(s) == n\n",
    "\n",
    "result = check_string_length(\"Is this text the right length?\", 30)\n",
    "print(result)"
   ]
  },
  {
   "cell_type": "code",
   "execution_count": 3,
   "id": "46dd3c8e-591b-40f8-90f4-dd4c2319dfac",
   "metadata": {
    "tags": []
   },
   "outputs": [
    {
     "name": "stdout",
     "output_type": "stream",
     "text": [
      "4\n",
      "16\n",
      "36\n"
     ]
    }
   ],
   "source": [
    "def square_and_print(*args):\n",
    "    for num in args:\n",
    "        print(num ** 2)\n",
    "    return None \n",
    "\n",
    "square_and_print(2, 4, 6)"
   ]
  },
  {
   "cell_type": "code",
   "execution_count": 6,
   "id": "70945b45-7c9b-48dc-9066-04b49e4ae337",
   "metadata": {
    "tags": []
   },
   "outputs": [
    {
     "name": "stdout",
     "output_type": "stream",
     "text": [
      "I18N\n"
     ]
    }
   ],
   "source": [
    "def make_numeronym(word):\n",
    "    \"\"\"\n",
    "    Converts a long word into a numeronym format:\n",
    "    - First and last letters capitalized\n",
    "    - Middle letters replaced by the number of middle letters\n",
    "    - Only accepts strings of minimum length 4\n",
    "    \n",
    "    Example:\n",
    "    make_numeronym(\"localization\") -> \"L10N\"\n",
    "    \"\"\"\n",
    "    if not isinstance(word, str):\n",
    "        return \"Error: Input must be a string.\"\n",
    "    \n",
    "    if len(word) < 4:\n",
    "        return \"Error: String must have at least 4 characters.\"\n",
    "    \n",
    "    first_letter = word[0].upper()\n",
    "    last_letter = word[-1].upper()\n",
    "    middle_length = len(word) - 2\n",
    "    \n",
    "    return f\"{first_letter}{middle_length}{last_letter}\"\n",
    "\n",
    "# Call the function with an example\n",
    "print(make_numeronym(\"internationalization\"))"
   ]
  },
  {
   "cell_type": "code",
   "execution_count": 7,
   "id": "0d9d5485-4446-4fbc-98d6-77f7ad8f3c21",
   "metadata": {
    "tags": []
   },
   "outputs": [],
   "source": [
    "get_shorty = lambda x: f\"{x[0]}{len(x[1:-1])}{x[-1]}\".upper() if isinstance(x, str) and len(x) > 3 else None"
   ]
  },
  {
   "cell_type": "code",
   "execution_count": 8,
   "id": "a78c79d0-a20e-42f1-8928-c58f1804f884",
   "metadata": {
    "tags": []
   },
   "outputs": [
    {
     "data": {
      "text/plain": [
       "'O16N'"
      ]
     },
     "execution_count": 8,
     "metadata": {},
     "output_type": "execute_result"
    }
   ],
   "source": [
    "get_shorty(\"Operationalization\")"
   ]
  },
  {
   "cell_type": "code",
   "execution_count": 9,
   "id": "387c66ea-1c2a-4a49-97ab-58487b95c857",
   "metadata": {
    "tags": []
   },
   "outputs": [
    {
     "name": "stdout",
     "output_type": "stream",
     "text": [
      "1\n",
      "0\n"
     ]
    }
   ],
   "source": [
    "def check_difference(value):\n",
    "    \"\"\"\n",
    "    Subtracts 5 from the input value and returns 1 if the result is non-negative,\n",
    "    else returns 0.\n",
    "    \n",
    "    Parameters:\n",
    "    value (int, float): A numeric input\n",
    "    \n",
    "    Returns:\n",
    "    int: 1 if value - 5 is non-negative, otherwise 0\n",
    "    \"\"\"\n",
    "    difference = value - 5\n",
    "    if difference >= 0:\n",
    "        return 1\n",
    "    else:\n",
    "        return 0\n",
    "\n",
    "# Test the function\n",
    "result = check_difference(10)\n",
    "print(result)  # Should print 1 because 10 - 5 is non-negative\n",
    "\n",
    "result = check_difference(3.5)\n",
    "print(result)  # Should print 0 because 3.5 - 5 is negative"
   ]
  },
  {
   "cell_type": "code",
   "execution_count": 13,
   "id": "e9212af1-0a8e-4b5d-82d3-46223f36806d",
   "metadata": {
    "tags": []
   },
   "outputs": [
    {
     "name": "stdout",
     "output_type": "stream",
     "text": [
      "The secret value inside the function is: 42\n"
     ]
    }
   ],
   "source": [
    "def reveal_secret():\n",
    "    secret_x = 42  # Local variable\n",
    "    print(f\"The secret value inside the function is: {secret_x}\")\n",
    "\n",
    "# Call the function to see the value of secret_x\n",
    "reveal_secret()"
   ]
  },
  {
   "cell_type": "code",
   "execution_count": 14,
   "id": "58e3eaac-2098-4226-a866-49839832a2e8",
   "metadata": {
    "tags": []
   },
   "outputs": [
    {
     "ename": "NameError",
     "evalue": "name 'secret_x' is not defined",
     "output_type": "error",
     "traceback": [
      "\u001b[0;31m---------------------------------------------------------------------------\u001b[0m",
      "\u001b[0;31mNameError\u001b[0m                                 Traceback (most recent call last)",
      "Cell \u001b[0;32mIn[14], line 2\u001b[0m\n\u001b[1;32m      1\u001b[0m \u001b[38;5;66;03m# Try accessing secret_x outside the function (this will cause an error)\u001b[39;00m\n\u001b[0;32m----> 2\u001b[0m \u001b[38;5;28mprint\u001b[39m(\u001b[43msecret_x\u001b[49m)\n",
      "\u001b[0;31mNameError\u001b[0m: name 'secret_x' is not defined"
     ]
    }
   ],
   "source": [
    "# Try accessing secret_x outside the function (this will cause an error)\n",
    "print(secret_x)"
   ]
  },
  {
   "cell_type": "code",
   "execution_count": 15,
   "id": "21e82b77-cab1-4f7e-831c-a2d924eab2cf",
   "metadata": {
    "tags": []
   },
   "outputs": [
    {
     "ename": "NameError",
     "evalue": "name 'x1' is not defined",
     "output_type": "error",
     "traceback": [
      "\u001b[0;31m---------------------------------------------------------------------------\u001b[0m",
      "\u001b[0;31mNameError\u001b[0m                                 Traceback (most recent call last)",
      "Cell \u001b[0;32mIn[15], line 4\u001b[0m\n\u001b[1;32m      1\u001b[0m \u001b[38;5;28;01mdef\u001b[39;00m \u001b[38;5;21mprint_me\u001b[39m():\n\u001b[1;32m      2\u001b[0m     \u001b[38;5;28mprint\u001b[39m(x1)\n\u001b[0;32m----> 4\u001b[0m \u001b[43mprint_me\u001b[49m\u001b[43m(\u001b[49m\u001b[43m)\u001b[49m\n",
      "Cell \u001b[0;32mIn[15], line 2\u001b[0m, in \u001b[0;36mprint_me\u001b[0;34m()\u001b[0m\n\u001b[1;32m      1\u001b[0m \u001b[38;5;28;01mdef\u001b[39;00m \u001b[38;5;21mprint_me\u001b[39m():\n\u001b[0;32m----> 2\u001b[0m     \u001b[38;5;28mprint\u001b[39m(\u001b[43mx1\u001b[49m)\n",
      "\u001b[0;31mNameError\u001b[0m: name 'x1' is not defined"
     ]
    }
   ],
   "source": [
    "def print_me():\n",
    "    print(x1)\n",
    "\n",
    "print_me()"
   ]
  },
  {
   "cell_type": "code",
   "execution_count": 16,
   "id": "bf56c49a-ec77-4efd-b67e-7b94f32ea101",
   "metadata": {
    "tags": []
   },
   "outputs": [
    {
     "name": "stdout",
     "output_type": "stream",
     "text": [
      "5\n"
     ]
    }
   ],
   "source": [
    "def print_me2():\n",
    "    x2 = 5\n",
    "    print(x2)\n",
    "\n",
    "print_me2()"
   ]
  }
 ],
 "metadata": {
  "kernelspec": {
   "display_name": "Python 3 (ipykernel)",
   "language": "python",
   "name": "python3"
  },
  "language_info": {
   "codemirror_mode": {
    "name": "ipython",
    "version": 3
   },
   "file_extension": ".py",
   "mimetype": "text/x-python",
   "name": "python",
   "nbconvert_exporter": "python",
   "pygments_lexer": "ipython3",
   "version": "3.11.4"
  }
 },
 "nbformat": 4,
 "nbformat_minor": 5
}
