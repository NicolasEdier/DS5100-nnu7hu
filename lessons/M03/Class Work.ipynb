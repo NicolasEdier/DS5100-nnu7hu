{
 "cells": [
  {
   "cell_type": "code",
   "execution_count": 4,
   "id": "671992aa-1422-4bd8-bbe6-4ad5a9042027",
   "metadata": {
    "tags": []
   },
   "outputs": [
    {
     "name": "stdout",
     "output_type": "stream",
     "text": [
      "bucket 3\n"
     ]
    }
   ],
   "source": [
    "val = -2\n",
    "\n",
    "if -10 < val < -5:\n",
    "    print('bucket 1')\n",
    "elif -5 <= val < -2:\n",
    "    print('bucket 2')\n",
    "elif  val == -2:\n",
    "    print('bucket 3')"
   ]
  },
  {
   "cell_type": "code",
   "execution_count": 6,
   "id": "126499e4-6506-4510-957c-33443a17b5e3",
   "metadata": {
    "tags": []
   },
   "outputs": [
    {
     "name": "stdout",
     "output_type": "stream",
     "text": [
      "bucket 4\n"
     ]
    }
   ],
   "source": [
    "val = 5\n",
    "\n",
    "if -10 < val < -5:\n",
    "    print('bucket 1')\n",
    "elif -5 <= val < -2:\n",
    "    print('bucket 2')\n",
    "elif  val == -2:\n",
    "    print('bucket 3')\n",
    "else:\n",
    "    print('bucket 4')"
   ]
  },
  {
   "cell_type": "code",
   "execution_count": 11,
   "id": "fbe39f96-d457-4223-9cce-9028fe61504d",
   "metadata": {
    "tags": []
   },
   "outputs": [
    {
     "name": "stdout",
     "output_type": "stream",
     "text": [
      "-2\n",
      "max_val\n",
      "0\n",
      "5\n",
      "6\n"
     ]
    }
   ],
   "source": [
    "xx = [-2, 8, 0, 5, 6]\n",
    "\n",
    "max_val = max(xx)\n",
    "\n",
    "for x in xx:\n",
    "    if x < max_val:\n",
    "        print(x)\n",
    "    else:\n",
    "        print('max_val')"
   ]
  },
  {
   "cell_type": "code",
   "execution_count": 14,
   "id": "1f21c59b-97a7-4576-9f74-f6be2f489a29",
   "metadata": {
    "tags": []
   },
   "outputs": [
    {
     "name": "stdout",
     "output_type": "stream",
     "text": [
      "0\n",
      "10\n",
      "20\n",
      "30\n",
      "40\n",
      "50\n",
      "60\n",
      "70\n",
      "80\n",
      "90\n"
     ]
    }
   ],
   "source": [
    "it = 0\n",
    "max_iter = 100\n",
    "\n",
    "while it < max_iter:\n",
    "    if (it == 0) or (it % 10 == 0):\n",
    "        print(it)\n",
    "    it += 1"
   ]
  },
  {
   "cell_type": "code",
   "execution_count": 19,
   "id": "68b9992a-be0a-4ab2-8bd3-f5c4e096c7d6",
   "metadata": {
    "tags": []
   },
   "outputs": [
    {
     "name": "stdout",
     "output_type": "stream",
     "text": [
      "\"charlottesville\" \"new york\" \"paris\" \"miami\" \"la\" "
     ]
    }
   ],
   "source": [
    "cities = ['Charlottesville','New York','Paris','Miami','LA']\n",
    "\n",
    "for city in cities:\n",
    "    print(f'\"{city.lower()}\"', end =' ')"
   ]
  },
  {
   "cell_type": "code",
   "execution_count": 20,
   "id": "44f8a6bb-4811-4ebd-8ce0-2e3228e9cc8f",
   "metadata": {
    "tags": []
   },
   "outputs": [
    {
     "name": "stdout",
     "output_type": "stream",
     "text": [
      "Charlottesville\n",
      "New York\n",
      "Paris\n",
      "Miami\n",
      "LA\n"
     ]
    }
   ],
   "source": [
    "myit = iter(cities)\n",
    "for next_it in myit:\n",
    "    print(next_it)"
   ]
  },
  {
   "cell_type": "code",
   "execution_count": 33,
   "id": "58bbbdc6-e3c5-4068-9ab0-89aa067c9c54",
   "metadata": {
    "tags": []
   },
   "outputs": [
    {
     "name": "stdout",
     "output_type": "stream",
     "text": [
      "ALDIE:\t20105, 20152\n",
      "DC:\t21882, 26689, 23480\n"
     ]
    }
   ],
   "source": [
    "cityzip = {'Aldie': ['20105','20152'], 'DC': ['21882','26689','23480']}\n",
    "for k in cityzip:\n",
    "    (k)\n",
    "for v in cityzip.values():\n",
    "    (v)\n",
    "for k, v in cityzip.items():\n",
    "    print(f\"{k.upper()}:\\t{', '.join(v)}\")"
   ]
  },
  {
   "cell_type": "code",
   "execution_count": 34,
   "id": "10096fbe-985a-4036-9358-4cc386fedd43",
   "metadata": {
    "tags": []
   },
   "outputs": [
    {
     "name": "stdout",
     "output_type": "stream",
     "text": [
      "Aldie ['20105', '20152']\n",
      "DC ['21882', '26689', '23480']\n"
     ]
    }
   ],
   "source": [
    "for city, zip in cityzip.items():\n",
    "    print (city, zip)"
   ]
  },
  {
   "cell_type": "code",
   "execution_count": 35,
   "id": "e39295e4-d502-40d1-a8a6-b340bd896272",
   "metadata": {
    "tags": []
   },
   "outputs": [
    {
     "name": "stdout",
     "output_type": "stream",
     "text": [
      "ALDIE:\t20105, 20152\n",
      "DC:\t21882, 26689, 23480\n"
     ]
    }
   ],
   "source": [
    "for k in cityzip.keys():\n",
    "    print(f\"{k.upper()}:\\t{', '.join(cityzip[k])}\")"
   ]
  },
  {
   "cell_type": "code",
   "execution_count": 39,
   "id": "d28a3615-2ece-408d-a8df-028b1461bf10",
   "metadata": {
    "tags": []
   },
   "outputs": [
    {
     "name": "stdout",
     "output_type": "stream",
     "text": [
      "[1, 8, 27, 64, 125]\n"
     ]
    }
   ],
   "source": [
    "numbers = \"12345\"\n",
    "\n",
    "cubed_numbers = []\n",
    "\n",
    "for num in numbers:\n",
    "    cubed_numbers.append(int(num) ** 3)\n",
    "\n",
    "print(cubed_numbers)"
   ]
  },
  {
   "cell_type": "code",
   "execution_count": 44,
   "id": "ac78fca1-6d59-40d5-ab74-6fd9c2e2c699",
   "metadata": {
    "tags": []
   },
   "outputs": [
    {
     "name": "stdout",
     "output_type": "stream",
     "text": [
      "['123', '45', '678']\n"
     ]
    }
   ],
   "source": [
    "items = [\"123\", \"abc\", \"45\", \"hello\", \"678\"]\n",
    "\n",
    "number_strings = [item for item in items if item.isdigit()]\n",
    "\n",
    "print(number_strings)"
   ]
  },
  {
   "cell_type": "code",
   "execution_count": 48,
   "id": "0049cf6f-3322-4180-9d2a-9dd045b3e2f6",
   "metadata": {
    "tags": []
   },
   "outputs": [
    {
     "name": "stdout",
     "output_type": "stream",
     "text": [
      "{'max_depth': [5, 10], 'max_iter': [10, 20]}\n"
     ]
    }
   ],
   "source": [
    "grid = {\n",
    "    'max_depth': [5,10],\n",
    "    'ntrees': [100, 200, 300],\n",
    "    'regularization': [11,12],\n",
    "    'max_iter': [10,20]\n",
    "}\n",
    "\n",
    "filtered_grid = {key: value for key, value in grid.items() if 'max' in key}\n",
    "print(filtered_grid)"
   ]
  }
 ],
 "metadata": {
  "kernelspec": {
   "display_name": "Python 3 (ipykernel)",
   "language": "python",
   "name": "python3"
  },
  "language_info": {
   "codemirror_mode": {
    "name": "ipython",
    "version": 3
   },
   "file_extension": ".py",
   "mimetype": "text/x-python",
   "name": "python",
   "nbconvert_exporter": "python",
   "pygments_lexer": "ipython3",
   "version": "3.11.4"
  }
 },
 "nbformat": 4,
 "nbformat_minor": 5
}
