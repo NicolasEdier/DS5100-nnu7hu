{
 "cells": [
  {
   "cell_type": "code",
   "execution_count": 23,
   "id": "6a8459da-c687-45f8-a76d-0d7bcd260d0e",
   "metadata": {
    "tags": []
   },
   "outputs": [],
   "source": [
    "fibonacci <- numeric(10)\n",
    "\n",
    "fibonacci[1] <- fibonacci[2] <- 1\n",
    "\n",
    "for (i in 3:10) {\n",
    "    fibonacci[i] <- fibonacci[i -2] + fibonacci[i-1]\n",
    "    return(fibonacci)\n",
    "}"
   ]
  },
  {
   "cell_type": "code",
   "execution_count": 20,
   "id": "b8418fa1-d000-44e2-ab0d-39013040a94b",
   "metadata": {
    "tags": []
   },
   "outputs": [
    {
     "name": "stdout",
     "output_type": "stream",
     "text": [
      " [1]  1  1  2  3  5  8 13 21 34 55\n"
     ]
    }
   ],
   "source": [
    "# Function to generate Fibonacci numbers\n",
    "fibonacci <- function(n) {\n",
    "  fib <- numeric(n) # Initialize a vector of size n\n",
    "  fib[1] <- 1\n",
    "  fib[2] <- 1\n",
    "  \n",
    "  for (i in 3:n) {\n",
    "    fib[i] <- fib[i - 1] + fib[i - 2]\n",
    "  }\n",
    "  \n",
    "  return(fib)\n",
    "}\n",
    "\n",
    "# Generate the first 10 Fibonacci numbers\n",
    "n_fib <- fibonacci(10)\n",
    "print(n_fib)"
   ]
  },
  {
   "cell_type": "code",
   "execution_count": 29,
   "id": "148b9c94-463f-4974-bbd9-9737c00f1824",
   "metadata": {
    "tags": []
   },
   "outputs": [
    {
     "data": {
      "text/html": [
       "1"
      ],
      "text/latex": [
       "1"
      ],
      "text/markdown": [
       "1"
      ],
      "text/plain": [
       "[1] 1"
      ]
     },
     "metadata": {},
     "output_type": "display_data"
    },
    {
     "data": {
      "text/html": [
       "1"
      ],
      "text/latex": [
       "1"
      ],
      "text/markdown": [
       "1"
      ],
      "text/plain": [
       "[1] 1"
      ]
     },
     "metadata": {},
     "output_type": "display_data"
    },
    {
     "name": "stdout",
     "output_type": "stream",
     "text": [
      "[1] 0\n",
      "[1] 0\n"
     ]
    },
    {
     "data": {
      "text/html": [
       "1"
      ],
      "text/latex": [
       "1"
      ],
      "text/markdown": [
       "1"
      ],
      "text/plain": [
       "[1] 1"
      ]
     },
     "metadata": {},
     "output_type": "display_data"
    }
   ],
   "source": [
    "test <- function(n) {\n",
    "    if (n >= 0 & n <= 1) {\n",
    "        return(1)\n",
    "    } else {\n",
    "        print(0)\n",
    "    }\n",
    "}\n",
    "test(.09)\n",
    "test(.89)\n",
    "test(5)\n",
    "test(1.09)\n",
    "test(.1)"
   ]
  },
  {
   "cell_type": "code",
   "execution_count": 31,
   "id": "46fe9488-f142-4086-b3c9-64d7a1b1f1ec",
   "metadata": {
    "tags": []
   },
   "outputs": [
    {
     "name": "stdout",
     "output_type": "stream",
     "text": [
      " [1] \"a\" \"b\" \"c\" \"d\" \"e\" \"f\" \"g\" \"h\" \"i\" \"j\"\n",
      " [1] \"a\" \"b\" \"c\" \"d\" \"e\" \"f\" \"g\" \"h\" \"i\" \"j\"\n",
      " [1] \"Q\" \"R\" \"S\" \"T\" \"U\" \"V\" \"W\" \"X\" \"Y\" \"Z\"\n",
      " [1] \"Q\" \"R\" \"S\" \"T\" \"U\" \"V\" \"W\" \"X\" \"Y\" \"Z\"\n",
      "[1] \"V\" \"W\" \"X\"\n",
      "[1] \"V\" \"W\" \"X\"\n"
     ]
    }
   ],
   "source": [
    "# Extract the first 10 English letters in lowercase\n",
    "first_10_lower <- letters[1:10]\n",
    "print(first_10_lower)\n",
    "print(head(letters,10))\n",
    "\n",
    "# Extract the last 10 English letters in uppercase\n",
    "last_10_upper <- LETTERS[17:26]\n",
    "print(last_10_upper)\n",
    "print(tail(LETTERS,10))\n",
    "\n",
    "# Extract the 22nd, 23rd, and 24th letters in uppercase\n",
    "selected_upper <- LETTERS[22:24]\n",
    "print(selected_upper)\n",
    "print(LETTERS[22:24])"
   ]
  },
  {
   "cell_type": "code",
   "execution_count": 35,
   "id": "d2cd58ec-2645-4c16-87f0-43d4b71e9c8a",
   "metadata": {
    "tags": []
   },
   "outputs": [
    {
     "name": "stdout",
     "output_type": "stream",
     "text": [
      "[1] \"1 \"\n",
      "[1] \"2 \"\n",
      "[1] \"3 Fizz\"\n",
      "[1] \"4 \"\n",
      "[1] \"5 Buzz\"\n",
      "[1] \"6 Fizz\"\n",
      "[1] \"7 \"\n",
      "[1] \"8 \"\n",
      "[1] \"9 Fizz\"\n",
      "[1] \"10 Buzz\"\n",
      "[1] \"11 \"\n",
      "[1] \"12 Fizz\"\n",
      "[1] \"13 \"\n",
      "[1] \"14 \"\n",
      "[1] \"15 FizzBuzz\"\n",
      "[1] \"16 \"\n",
      "[1] \"17 \"\n",
      "[1] \"18 Fizz\"\n",
      "[1] \"19 \"\n",
      "[1] \"20 Buzz\"\n",
      "[1] \"21 Fizz\"\n",
      "[1] \"22 \"\n",
      "[1] \"23 \"\n",
      "[1] \"24 Fizz\"\n",
      "[1] \"25 Buzz\"\n",
      "[1] \"26 \"\n",
      "[1] \"27 Fizz\"\n",
      "[1] \"28 \"\n",
      "[1] \"29 \"\n",
      "[1] \"30 FizzBuzz\"\n",
      "[1] \"31 \"\n",
      "[1] \"32 \"\n",
      "[1] \"33 Fizz\"\n",
      "[1] \"34 \"\n",
      "[1] \"35 Buzz\"\n",
      "[1] \"36 Fizz\"\n",
      "[1] \"37 \"\n",
      "[1] \"38 \"\n",
      "[1] \"39 Fizz\"\n",
      "[1] \"40 Buzz\"\n",
      "[1] \"41 \"\n",
      "[1] \"42 Fizz\"\n",
      "[1] \"43 \"\n",
      "[1] \"44 \"\n",
      "[1] \"45 FizzBuzz\"\n",
      "[1] \"46 \"\n",
      "[1] \"47 \"\n",
      "[1] \"48 Fizz\"\n",
      "[1] \"49 \"\n",
      "[1] \"50 Buzz\"\n",
      "[1] \"51 Fizz\"\n",
      "[1] \"52 \"\n",
      "[1] \"53 \"\n",
      "[1] \"54 Fizz\"\n",
      "[1] \"55 Buzz\"\n",
      "[1] \"56 \"\n",
      "[1] \"57 Fizz\"\n",
      "[1] \"58 \"\n",
      "[1] \"59 \"\n",
      "[1] \"60 FizzBuzz\"\n",
      "[1] \"61 \"\n",
      "[1] \"62 \"\n",
      "[1] \"63 Fizz\"\n",
      "[1] \"64 \"\n",
      "[1] \"65 Buzz\"\n",
      "[1] \"66 Fizz\"\n",
      "[1] \"67 \"\n",
      "[1] \"68 \"\n",
      "[1] \"69 Fizz\"\n",
      "[1] \"70 Buzz\"\n",
      "[1] \"71 \"\n",
      "[1] \"72 Fizz\"\n",
      "[1] \"73 \"\n",
      "[1] \"74 \"\n",
      "[1] \"75 FizzBuzz\"\n",
      "[1] \"76 \"\n",
      "[1] \"77 \"\n",
      "[1] \"78 Fizz\"\n",
      "[1] \"79 \"\n",
      "[1] \"80 Buzz\"\n",
      "[1] \"81 Fizz\"\n",
      "[1] \"82 \"\n",
      "[1] \"83 \"\n",
      "[1] \"84 Fizz\"\n",
      "[1] \"85 Buzz\"\n",
      "[1] \"86 \"\n",
      "[1] \"87 Fizz\"\n",
      "[1] \"88 \"\n",
      "[1] \"89 \"\n",
      "[1] \"90 FizzBuzz\"\n",
      "[1] \"91 \"\n",
      "[1] \"92 \"\n",
      "[1] \"93 Fizz\"\n",
      "[1] \"94 \"\n",
      "[1] \"95 Buzz\"\n",
      "[1] \"96 Fizz\"\n",
      "[1] \"97 \"\n",
      "[1] \"98 \"\n",
      "[1] \"99 Fizz\"\n",
      "[1] \"100 Buzz\"\n"
     ]
    }
   ],
   "source": [
    "for (n in 1:100) {\n",
    "    a <- ''\n",
    "    b <- ''\n",
    "    if (n%% 3 == 0) {\n",
    "        a <- \"Fizz\"\n",
    "    }\n",
    "    if (n %% 5 == 0) {\n",
    "        b <- \"Buzz\"\n",
    "    }\n",
    "    print(paste(n, ' ', a, b, sep=''))\n",
    "}"
   ]
  }
 ],
 "metadata": {
  "kernelspec": {
   "display_name": "R 4.4.1",
   "language": "R",
   "name": "r-4.4.1"
  },
  "language_info": {
   "codemirror_mode": "r",
   "file_extension": ".r",
   "mimetype": "text/x-r-source",
   "name": "R",
   "pygments_lexer": "r",
   "version": "4.4.1"
  }
 },
 "nbformat": 4,
 "nbformat_minor": 5
}
