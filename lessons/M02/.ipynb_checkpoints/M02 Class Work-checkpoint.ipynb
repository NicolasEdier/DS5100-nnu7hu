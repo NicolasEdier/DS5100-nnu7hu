{
 "cells": [
  {
   "cell_type": "code",
   "execution_count": 12,
   "id": "8cfb9eb6-7d84-45f4-bd40-860981e0c4bd",
   "metadata": {
    "tags": []
   },
   "outputs": [],
   "source": [
    "mystr = 'python'"
   ]
  },
  {
   "cell_type": "code",
   "execution_count": 20,
   "id": "fd12cc94-7fe3-4a39-95f2-8277e6b774ad",
   "metadata": {
    "tags": []
   },
   "outputs": [
    {
     "data": {
      "text/plain": [
       "'pyt'"
      ]
     },
     "execution_count": 20,
     "metadata": {},
     "output_type": "execute_result"
    }
   ],
   "source": [
    "mystr[:3]"
   ]
  },
  {
   "cell_type": "code",
   "execution_count": 21,
   "id": "7d70fd79-1340-4d34-896f-de8759a3b6fa",
   "metadata": {
    "tags": []
   },
   "outputs": [
    {
     "data": {
      "text/plain": [
       "'hon'"
      ]
     },
     "execution_count": 21,
     "metadata": {},
     "output_type": "execute_result"
    }
   ],
   "source": [
    "mystr[-3:]"
   ]
  },
  {
   "cell_type": "code",
   "execution_count": 3,
   "id": "565c1997-c570-4d06-b433-8bc4f20c7809",
   "metadata": {
    "tags": []
   },
   "outputs": [
    {
     "name": "stdout",
     "output_type": "stream",
     "text": [
      "second\n"
     ]
    }
   ],
   "source": [
    "mylist=[]\n",
    "mylist.append('first')\n",
    "mylist.append('second')\n",
    "mylist.append('third')\n",
    "print(mylist[1])"
   ]
  },
  {
   "cell_type": "code",
   "execution_count": 4,
   "id": "b68f1878-8b35-4ad6-940c-31de2d953776",
   "metadata": {
    "tags": []
   },
   "outputs": [
    {
     "name": "stdout",
     "output_type": "stream",
     "text": [
      "second\n"
     ]
    }
   ],
   "source": [
    "mylist = []\n",
    "mylist += ['fist']\n",
    "mylist += ['second','third']\n",
    "print(mylist[1])"
   ]
  },
  {
   "cell_type": "code",
   "execution_count": 5,
   "id": "f89502f0-aa38-411f-a5cb-44938a9c24c0",
   "metadata": {
    "tags": []
   },
   "outputs": [
    {
     "name": "stdout",
     "output_type": "stream",
     "text": [
      "second\n"
     ]
    }
   ],
   "source": [
    "mylist = ['first', 'second', 'third']\n",
    "print(mylist[1])"
   ]
  },
  {
   "cell_type": "code",
   "execution_count": 6,
   "id": "9b80b524-1ce6-4753-946a-5ab54aaf9715",
   "metadata": {
    "tags": []
   },
   "outputs": [],
   "source": [
    "mytuple = 1,2,3"
   ]
  },
  {
   "cell_type": "code",
   "execution_count": 11,
   "id": "cfdc71ca-da3a-4476-ab09-a312b9b5ac16",
   "metadata": {
    "tags": []
   },
   "outputs": [],
   "source": [
    "mytuple = (1,2,3)"
   ]
  },
  {
   "cell_type": "code",
   "execution_count": 10,
   "id": "26b99de0-abed-4ee6-b7f3-838e6cf94c0c",
   "metadata": {
    "tags": []
   },
   "outputs": [],
   "source": [
    "mytuple = tuple([1,2,3])"
   ]
  },
  {
   "cell_type": "code",
   "execution_count": 9,
   "id": "5402dff9-2916-42d2-86d0-e37b8d7c2de0",
   "metadata": {
    "tags": []
   },
   "outputs": [
    {
     "ename": "IndexError",
     "evalue": "tuple index out of range",
     "output_type": "error",
     "traceback": [
      "\u001b[0;31m---------------------------------------------------------------------------\u001b[0m",
      "\u001b[0;31mIndexError\u001b[0m                                Traceback (most recent call last)",
      "Cell \u001b[0;32mIn[9], line 1\u001b[0m\n\u001b[0;32m----> 1\u001b[0m \u001b[38;5;28mprint\u001b[39m(\u001b[43mmytuple\u001b[49m\u001b[43m[\u001b[49m\u001b[38;5;241;43m4\u001b[39;49m\u001b[43m]\u001b[49m)\n",
      "\u001b[0;31mIndexError\u001b[0m: tuple index out of range"
     ]
    }
   ],
   "source": [
    "print(mytuple[4])"
   ]
  },
  {
   "cell_type": "code",
   "execution_count": 23,
   "id": "f19d8994-6562-442b-ac4b-593467dee278",
   "metadata": {
    "tags": []
   },
   "outputs": [],
   "source": [
    "val='ERROR'\n",
    "levels={'WARN','ERROR','CRITICAL','WARN','ERROR','CRITICAL'}"
   ]
  },
  {
   "cell_type": "code",
   "execution_count": 24,
   "id": "88cf35ed-6fb6-4d93-afb7-1dea09bc3413",
   "metadata": {
    "tags": []
   },
   "outputs": [
    {
     "data": {
      "text/plain": [
       "True"
      ]
     },
     "execution_count": 24,
     "metadata": {},
     "output_type": "execute_result"
    }
   ],
   "source": [
    "val in levels"
   ]
  },
  {
   "cell_type": "code",
   "execution_count": 25,
   "id": "4071f37a-1e95-4f44-afa5-7652b4411ad8",
   "metadata": {
    "tags": []
   },
   "outputs": [
    {
     "name": "stdout",
     "output_type": "stream",
     "text": [
      "The age is: 30\n"
     ]
    }
   ],
   "source": [
    "my_dict = {\n",
    "    \"name\": \"Alice\",\n",
    "    \"age\": 30,\n",
    "    \"city\": \"New York\"\n",
    "}\n",
    "\n",
    "age_value = my_dict.get(\"age\")\n",
    "\n",
    "print(\"The age is:\", age_value)"
   ]
  },
  {
   "cell_type": "code",
   "execution_count": 26,
   "id": "dd147ee6-793b-4ba3-bf76-f773f9635294",
   "metadata": {
    "tags": []
   },
   "outputs": [
    {
     "name": "stdout",
     "output_type": "stream",
     "text": [
      "List of keys: ['name', 'age', 'city']\n"
     ]
    }
   ],
   "source": [
    "keys_list = list(my_dict.keys())\n",
    "\n",
    "print(\"List of keys:\", keys_list)"
   ]
  },
  {
   "cell_type": "code",
   "execution_count": 29,
   "id": "7fb7e2c4-54d9-43cd-9d6d-ea4ef6bae4eb",
   "metadata": {
    "tags": []
   },
   "outputs": [],
   "source": [
    "mystring = 'The quick brown fox jumped over the lazy dogs.'"
   ]
  },
  {
   "cell_type": "code",
   "execution_count": 32,
   "id": "03843a71-46a6-4c28-98f3-e46b65cdbce9",
   "metadata": {
    "tags": []
   },
   "outputs": [
    {
     "data": {
      "text/plain": [
       "['brown', 'dogs', 'fox', 'jumped', 'lazy', 'over', 'quick', 'the']"
      ]
     },
     "execution_count": 32,
     "metadata": {},
     "output_type": "execute_result"
    }
   ],
   "source": [
    "sorted(set(mystring.replace('.','').lower().split()))"
   ]
  },
  {
   "cell_type": "code",
   "execution_count": 34,
   "id": "92b1c4ec-16c1-4054-ac78-25927dc13c51",
   "metadata": {
    "tags": []
   },
   "outputs": [],
   "source": [
    "mylistt = ['1', '2', '3', '4']\n",
    "mylisttt = ['1','2','3','4','5','6','7']"
   ]
  },
  {
   "cell_type": "code",
   "execution_count": 36,
   "id": "f7b87d53-6b82-4ab8-a0b7-c2871e42acfb",
   "metadata": {
    "tags": []
   },
   "outputs": [
    {
     "data": {
      "text/plain": [
       "False"
      ]
     },
     "execution_count": 36,
     "metadata": {},
     "output_type": "execute_result"
    }
   ],
   "source": [
    "len(mylistt) == len(mylisttt)"
   ]
  },
  {
   "cell_type": "code",
   "execution_count": 37,
   "id": "a82465cd-e93b-4d21-8993-d37818e0ac2f",
   "metadata": {
    "tags": []
   },
   "outputs": [
    {
     "data": {
      "text/plain": [
       "3"
      ]
     },
     "execution_count": 37,
     "metadata": {},
     "output_type": "execute_result"
    }
   ],
   "source": [
    "abs(len(mylistt) - len(mylisttt))"
   ]
  },
  {
   "cell_type": "code",
   "execution_count": 38,
   "id": "999c8a58-9e56-4dfe-9d88-6badd4ec7e87",
   "metadata": {
    "tags": []
   },
   "outputs": [
    {
     "name": "stdout",
     "output_type": "stream",
     "text": [
      "epoch 1, mode TRAIN, loss 0.46\n"
     ]
    }
   ],
   "source": [
    "epoch = 1\n",
    "mode = 'TRAIN'\n",
    "loss = .46\n",
    "\n",
    "print(f\"epoch {epoch}, mode {mode}, loss {loss}\")"
   ]
  },
  {
   "cell_type": "code",
   "execution_count": 41,
   "id": "8d2e4b18-e017-4fad-b916-0bbed6d9bf6f",
   "metadata": {
    "tags": []
   },
   "outputs": [
    {
     "data": {
      "text/plain": [
       "0"
      ]
     },
     "execution_count": 41,
     "metadata": {},
     "output_type": "execute_result"
    }
   ],
   "source": [
    "var1 = 1.5\n",
    "var2 = 20.5\n",
    "var3 = int(var1 // var2)"
   ]
  },
  {
   "cell_type": "code",
   "execution_count": 48,
   "id": "5b0cb033-a99e-4d61-a90f-9bc65be25fcf",
   "metadata": {
    "tags": []
   },
   "outputs": [
    {
     "data": {
      "text/plain": [
       "False"
      ]
     },
     "execution_count": 48,
     "metadata": {},
     "output_type": "execute_result"
    }
   ],
   "source": [
    "var3 >= 1"
   ]
  },
  {
   "cell_type": "code",
   "execution_count": 55,
   "id": "f09ee9bc-2bc4-4023-ae8a-472628f3b0d1",
   "metadata": {
    "tags": []
   },
   "outputs": [],
   "source": [
    "a = .15 + .15\n",
    "b = .1 + .2"
   ]
  },
  {
   "cell_type": "code",
   "execution_count": 57,
   "id": "e32ce16f-7416-4af8-b45e-ab8c57576a4c",
   "metadata": {
    "tags": []
   },
   "outputs": [
    {
     "data": {
      "text/plain": [
       "False"
      ]
     },
     "execution_count": 57,
     "metadata": {},
     "output_type": "execute_result"
    }
   ],
   "source": [
    "a == b"
   ]
  },
  {
   "cell_type": "code",
   "execution_count": 58,
   "id": "2225e10f-766a-4867-a91b-1ed1f87d4d5d",
   "metadata": {
    "tags": []
   },
   "outputs": [
    {
     "data": {
      "text/plain": [
       "(0.3, 0.30000000000000004)"
      ]
     },
     "execution_count": 58,
     "metadata": {},
     "output_type": "execute_result"
    }
   ],
   "source": [
    "(a,b)"
   ]
  }
 ],
 "metadata": {
  "kernelspec": {
   "display_name": "Python 3 (ipykernel)",
   "language": "python",
   "name": "python3"
  },
  "language_info": {
   "codemirror_mode": {
    "name": "ipython",
    "version": 3
   },
   "file_extension": ".py",
   "mimetype": "text/x-python",
   "name": "python",
   "nbconvert_exporter": "python",
   "pygments_lexer": "ipython3",
   "version": "3.11.4"
  }
 },
 "nbformat": 4,
 "nbformat_minor": 5
}
