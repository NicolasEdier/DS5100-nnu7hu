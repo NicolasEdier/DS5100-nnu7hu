{
 "cells": [
  {
   "cell_type": "markdown",
   "id": "bbea800c-241d-42b4-a744-ecaffe13959e",
   "metadata": {},
   "source": [
    "# Metadata\n",
    "\n",
    "```yaml\n",
    "Course:  DS 5100\n",
    "Module:  09 Python Packages\n",
    "Topic:   HW Package Booklover\n",
    "Author:  R.C. Alvarado (adapted)\n",
    "Date:    7 July 2023 (revised)\n",
    "```"
   ]
  },
  {
   "cell_type": "markdown",
   "id": "36f46fdd-2405-4dc8-9ea1-33f395e56cc0",
   "metadata": {},
   "source": [
    "# Student Info\n",
    "\n",
    "* Name: Nicolas Edier\n",
    "* Net UD: nnu7hu\n",
    "* URL of this file in GitHub:"
   ]
  },
  {
   "cell_type": "markdown",
   "id": "375875a8-1503-46eb-8ea1-7e5bf39b5c41",
   "metadata": {},
   "source": [
    "# Instructions\n",
    "\n",
    "In your **private course repo on Rivanna**, use this Jupyter notebook and the data file described to write code that performs the tasks below. \n",
    "\n",
    "Save your notebook in the `M09` directory.\n",
    "\n",
    "Remember to add and commit these files to your repo. \n",
    "\n",
    "Then push your commits to your repo on GitHib.\n",
    "\n",
    "Be sure to fill out the **Student Info** block above.\n",
    "\n",
    "To submit your homework, save your results as a PDF and upload it to GradeScope. More information about how to create the PDF for this assignment are included at the end of this document.\n",
    "\n",
    "**TOTAL POINTS: 8**"
   ]
  },
  {
   "cell_type": "markdown",
   "id": "1baf08dc-35fe-44f1-bc26-7e1130ee993e",
   "metadata": {},
   "source": [
    "# Overview\n",
    "\n",
    "Follow the following recipe we used in class to package the code you wrote for `HW08` -- `booklover.py` and `booklover_test.py`.\n",
    "\n",
    "* Create a new git repo for your package.\n",
    "* Create and edit the required files and directories for your package and move the booklover modules there.\n",
    "* Stage, commit, and push all the files you've created.\n",
    "* Install your package with pip.\n",
    "* Outside of your package dir, write a script to test your method.\n",
    "\n",
    "Put this notebook in your repo. This will allow you to execute bash commands and capture the outpunt directly in the notebook.\n",
    "\n",
    "**TOTAL: 8 POINTS**"
   ]
  },
  {
   "cell_type": "markdown",
   "id": "6e39ba79-49ee-41e8-9e49-23d9d6bac2e0",
   "metadata": {
    "tags": []
   },
   "source": [
    "# Tasks"
   ]
  },
  {
   "cell_type": "markdown",
   "id": "fb11de14",
   "metadata": {},
   "source": [
    "## Task 1\n",
    "\n",
    "(5 points)\n",
    "\n",
    "Show the directory structure of your repo by running this command from the root of your repo:"
   ]
  },
  {
   "cell_type": "code",
   "execution_count": 1,
   "id": "7e6c6607",
   "metadata": {},
   "outputs": [
    {
     "ename": "SyntaxError",
     "evalue": "leading zeros in decimal integer literals are not permitted; use an 0o prefix for octal integers (3023997085.py, line 9)",
     "output_type": "error",
     "traceback": [
      "\u001b[0;36m  Cell \u001b[0;32mIn[1], line 9\u001b[0;36m\u001b[0m\n\u001b[0;31m    -rw------- 1 nnu7hu users 1069 Nov 10 12:09 LICENSE\u001b[0m\n\u001b[0m                                             ^\u001b[0m\n\u001b[0;31mSyntaxError\u001b[0m\u001b[0;31m:\u001b[0m leading zeros in decimal integer literals are not permitted; use an 0o prefix for octal integers\n"
     ]
    }
   ],
   "source": [
    "!ls -lR\n",
    "\n",
    "total 4\n",
    "drwx--S--- 3 nnu7hu users 4096 Nov 10 12:20 BookLover\n",
    "drwx--S--- 3 nnu7hu users 4096 Nov 10 12:28 BookLover.egg-info\n",
    "-rw------- 1 nnu7hu users 1862 Nov 10 12:13 booklover.py\n",
    "-rw------- 1 nnu7hu users 2728 Nov 10 12:13 booklover_test.py\n",
    "drwx--S--- 3 nnu7hu users 4096 Nov 10 12:25 build\n",
    "-rw------- 1 nnu7hu users 1069 Nov 10 12:09 LICENSE\n",
    "-rw------- 1 nnu7hu users   63 Nov 10 12:09 README.md\n",
    "-rw------- 1 nnu7hu users  332 Nov 10 12:25 setup.py\n",
    "./BookLover:\n",
    "total 1\n",
    "-rw------- 1 nnu7hu users 1862 Nov 10 12:18 booklover.py\n",
    "-rw------- 1 nnu7hu users 2728 Nov 10 12:18 booklover_test.py\n",
    "-rw------- 1 nnu7hu users    0 Nov 10 12:17 __init__.py\n",
    "./BookLover.egg-info:\n",
    "total 2\n",
    "-rw------- 1 nnu7hu users   1 Nov 10 12:35 dependency_links.txt\n",
    "-rw------- 1 nnu7hu users 253 Nov 10 12:35 PKG-INFO\n",
    "-rw------- 1 nnu7hu users 475 Nov 10 12:35 SOURCES.txt\n",
    "-rw------- 1 nnu7hu users  10 Nov 10 12:35 top_level.txt\n",
    "./build:\n",
    "total 1\n",
    "drwx--S--- 3 nnu7hu users 4096 Nov 10 12:25 lib\n",
    "./build/lib:\n",
    "total 1\n",
    "drwx--S--- 2 nnu7hu users 4096 Nov 10 12:25 BookLover\n",
    "./build/lib/BookLover:\n",
    "total 1\n",
    "-rw------- 1 nnu7hu users 1862 Nov 10 12:18 booklover.py\n",
    "-rw------- 1 nnu7hu users 2728 Nov 10 12:18 booklover_test.py\n",
    "-rw------- 1 nnu7hu users    0 Nov 10 12:17 __init__.py"
   ]
  },
  {
   "cell_type": "markdown",
   "id": "6b6f288b-05aa-441b-8c73-84b50b3b6844",
   "metadata": {
    "tags": []
   },
   "source": [
    "## Task 2\n",
    "\n",
    "(1 point)\n",
    "\n",
    "Put the URL of your GitHub repo here. Just paste it into a Markdown cell."
   ]
  },
  {
   "cell_type": "markdown",
   "id": "4d09d889-6104-4f20-b31c-2d8a72b17693",
   "metadata": {},
   "source": [
    "URL: https://github.com/NicolasEdier/M09-BookLover-Package"
   ]
  },
  {
   "cell_type": "markdown",
   "id": "f989dcd1-b1d2-4eb9-8ef6-8ca2d8495260",
   "metadata": {
    "lines_to_next_cell": 0,
    "tags": []
   },
   "source": [
    "## Task 3\n",
    "\n",
    "(1 point)\n",
    "\n",
    "Show the results of installing your package.\n",
    "\n",
    "```bash\n",
    "!pip install -e .\n",
    "```"
   ]
  },
  {
   "cell_type": "code",
   "execution_count": 2,
   "id": "06cc7a1a-890f-4662-b72c-f62eaf671bfb",
   "metadata": {
    "tags": []
   },
   "outputs": [
    {
     "ename": "SyntaxError",
     "evalue": "invalid syntax (4087765419.py, line 1)",
     "output_type": "error",
     "traceback": [
      "\u001b[0;36m  Cell \u001b[0;32mIn[2], line 1\u001b[0;36m\u001b[0m\n\u001b[0;31m    Defaulting to user installation because normal site-packages is not writeable\u001b[0m\n\u001b[0m               ^\u001b[0m\n\u001b[0;31mSyntaxError\u001b[0m\u001b[0;31m:\u001b[0m invalid syntax\n"
     ]
    }
   ],
   "source": [
    "Defaulting to user installation because normal site-packages is not writeable\n",
    "Obtaining file:///sfs/gpfs/tardis/home/nnu7hu/Documents/MSDS/DS5100/DS5100-nnu7hu/lessons/M09-BookLover-Package/M09-BookLover-Package\n",
    "  Preparing metadata (setup.py) ... done\n",
    "Installing collected packages: BookLover\n",
    "  Attempting uninstall: BookLover\n",
    "    Found existing installation: BookLover 0.1\n",
    "    Uninstalling BookLover-0.1:\n",
    "      Successfully uninstalled BookLover-0.1\n",
    "  Running setup.py develop for BookLover\n",
    "Successfully installed BookLover-0.1"
   ]
  },
  {
   "cell_type": "markdown",
   "id": "5b1a642e-74f0-43ff-97a3-9ddc7553978e",
   "metadata": {},
   "source": [
    "## Task 4\n",
    "\n",
    "(1 point)\n",
    "\n",
    "Create a file outside your repo to test your package by running it.\n",
    "\n",
    "To do this, import the package into your file and create a BookLover object.\n",
    "\n",
    "Then add a book and then print number books read.\n",
    "\n",
    "Then run the file. \n",
    "\n",
    "Show the output of running the file below, using a command like the following:\n",
    "\n",
    "```bash\n",
    "!python ../book_lover_demo.py\n",
    "```"
   ]
  },
  {
   "cell_type": "code",
   "execution_count": 4,
   "id": "5924fca8-6483-4f2b-a33f-6550d1726d6e",
   "metadata": {},
   "outputs": [],
   "source": [
    "#Number of books read: 1"
   ]
  }
 ],
 "metadata": {
  "jupytext": {
   "cell_metadata_filter": "-all",
   "main_language": "bash",
   "notebook_metadata_filter": "-all"
  },
  "kernelspec": {
   "display_name": "Python 3 (ipykernel)",
   "language": "python",
   "name": "python3"
  },
  "language_info": {
   "codemirror_mode": {
    "name": "ipython",
    "version": 3
   },
   "file_extension": ".py",
   "mimetype": "text/x-python",
   "name": "python",
   "nbconvert_exporter": "python",
   "pygments_lexer": "ipython3",
   "version": "3.11.4"
  },
  "vscode": {
   "interpreter": {
    "hash": "c3b963de08c47c3b6758389c5e0978ad73698a111eb508d4e16b558edb8f4cbf"
   }
  },
  "widgets": {
   "application/vnd.jupyter.widget-state+json": {
    "state": {},
    "version_major": 2,
    "version_minor": 0
   }
  }
 },
 "nbformat": 4,
 "nbformat_minor": 5
}
