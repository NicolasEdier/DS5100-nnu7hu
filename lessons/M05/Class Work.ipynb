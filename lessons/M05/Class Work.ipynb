{
 "cells": [
  {
   "cell_type": "code",
   "execution_count": 9,
   "id": "cd62cbac-fe71-4faf-9f0f-a537f681b4e7",
   "metadata": {
    "tags": []
   },
   "outputs": [
    {
     "name": "stdout",
     "output_type": "stream",
     "text": [
      "Time taken: 0.010648250579833984 seconds\n"
     ]
    }
   ],
   "source": [
    "import time\n",
    "\n",
    "# Start time\n",
    "start_time = time.time()\n",
    "\n",
    "# Create the list using a for loop\n",
    "result_list = []\n",
    "for i in range(1, 100001):\n",
    "    if i % 2 == 0:\n",
    "        result_list.append(i)  # Even numbers stay positive\n",
    "    else:\n",
    "        result_list.append(-i)  # Odd numbers become negative\n",
    "\n",
    "# End time\n",
    "end_time = time.time()\n",
    "\n",
    "# Calculate the time delta\n",
    "time_delta = end_time - start_time\n",
    "\n",
    "# Print the time taken\n",
    "print(f\"Time taken: {time_delta} seconds\")"
   ]
  },
  {
   "cell_type": "code",
   "execution_count": 10,
   "id": "3240478d-399f-4f06-9306-e4a6573a461a",
   "metadata": {
    "tags": []
   },
   "outputs": [
    {
     "name": "stdout",
     "output_type": "stream",
     "text": [
      "Time taken: 0.0062923431396484375 seconds\n"
     ]
    }
   ],
   "source": [
    "import time\n",
    "\n",
    "# Start time\n",
    "start_time_list = time.time()\n",
    "\n",
    "# Create the list using list comprehension\n",
    "result_list = [-i if i % 2 != 0 else i for i in range(1, 100001)]\n",
    "\n",
    "# End time\n",
    "end_time_list = time.time()\n",
    "\n",
    "# Calculate the time delta\n",
    "time_delta_list = end_time_list - start_time_list\n",
    "\n",
    "# Print the time taken\n",
    "print(f\"Time taken: {time_delta_list} seconds\")"
   ]
  },
  {
   "cell_type": "code",
   "execution_count": 11,
   "id": "98b0e497-d889-4ae3-9c34-118235f2491a",
   "metadata": {
    "tags": []
   },
   "outputs": [
    {
     "name": "stdout",
     "output_type": "stream",
     "text": [
      "[3 2 1 1 3 6 6 3 6 2]\n"
     ]
    }
   ],
   "source": [
    "import numpy as np\n",
    "\n",
    "# Generate 10 random integers between 1 and 6 (inclusive)\n",
    "random_integers = np.random.randint(1, 7, size=10)\n",
    "\n",
    "# Print the result\n",
    "print(random_integers)"
   ]
  },
  {
   "cell_type": "code",
   "execution_count": 16,
   "id": "44f0fc2c-7eb7-4ed4-a893-4bc587b72fef",
   "metadata": {
    "tags": []
   },
   "outputs": [
    {
     "data": {
      "text/plain": [
       "int"
      ]
     },
     "execution_count": 16,
     "metadata": {},
     "output_type": "execute_result"
    }
   ],
   "source": [
    "r1 = np.random.randint(10)\n",
    "type(r1)"
   ]
  },
  {
   "cell_type": "code",
   "execution_count": 17,
   "id": "df49f8bf-23d1-4eea-b49f-4bc1d815779d",
   "metadata": {
    "tags": []
   },
   "outputs": [
    {
     "data": {
      "text/plain": [
       "numpy.ndarray"
      ]
     },
     "execution_count": 17,
     "metadata": {},
     "output_type": "execute_result"
    }
   ],
   "source": [
    "r2 = np.random.randint(1,21,5)\n",
    "type(r2)"
   ]
  },
  {
   "cell_type": "code",
   "execution_count": 20,
   "id": "3ae8e175-9b77-4b65-9f35-7e239acf7997",
   "metadata": {
    "tags": []
   },
   "outputs": [
    {
     "data": {
      "text/plain": [
       "(array([1., 0., 0., 0., 1., 1., 1., 0., 0., 1.]),\n",
       " array([ 2. ,  2.9,  3.8,  4.7,  5.6,  6.5,  7.4,  8.3,  9.2, 10.1, 11. ]),\n",
       " <BarContainer object of 10 artists>)"
      ]
     },
     "execution_count": 20,
     "metadata": {},
     "output_type": "execute_result"
    },
    {
     "data": {
      "image/png": "[encoded data removed]",
      "text/plain": [
       "<Figure size 640x480 with 1 Axes>"
      ]
     },
     "metadata": {},
     "output_type": "display_data"
    }
   ],
   "source": [
    "from matplotlib.pyplot import hist\n",
    "hist(r2)"
   ]
  },
  {
   "cell_type": "code",
   "execution_count": 21,
   "id": "160d0bee-1853-43af-9758-219750b5bca6",
   "metadata": {
    "tags": []
   },
   "outputs": [
    {
     "name": "stdout",
     "output_type": "stream",
     "text": [
      "[[-0.37770521 -0.02843722 -0.634187  ]\n",
      " [-0.63737196 -0.14098836  0.85436229]]\n"
     ]
    }
   ],
   "source": [
    "# Generate a 2x3 matrix of random normal values\n",
    "random_matrix = np.random.randn(2, 3)\n",
    "\n",
    "# Print the matrix\n",
    "print(random_matrix)"
   ]
  },
  {
   "cell_type": "code",
   "execution_count": 24,
   "id": "8a004036-ce69-4a0f-a054-7298b489e1b1",
   "metadata": {
    "tags": []
   },
   "outputs": [
    {
     "name": "stdout",
     "output_type": "stream",
     "text": [
      "[[-0.75541042 -0.05687444 -1.268374  ]\n",
      " [-1.27474391 -0.28197672  1.70872458]]\n"
     ]
    }
   ],
   "source": [
    "# Multiply the matrix by 2\n",
    "multiplied_matrix = random_matrix * 2\n",
    "\n",
    "# Print the multiplied matrix\n",
    "print(multiplied_matrix)"
   ]
  },
  {
   "cell_type": "code",
   "execution_count": 25,
   "id": "4097132a-3a1f-4d31-b37d-e039145cc4ec",
   "metadata": {
    "tags": []
   },
   "outputs": [
    {
     "name": "stdout",
     "output_type": "stream",
     "text": [
      "[[-0.75541042 -0.05687444 -1.268374  ]\n",
      " [-1.27474391 -0.28197672  1.70872458]]\n"
     ]
    }
   ],
   "source": [
    "# Added the matrix by itself\n",
    "added_matrix = random_matrix + random_matrix\n",
    "\n",
    "# Print the added matrix\n",
    "print(added_matrix)"
   ]
  },
  {
   "cell_type": "code",
   "execution_count": 26,
   "id": "66212d05-2e1a-4522-97eb-f0dc8d3593f4",
   "metadata": {
    "tags": []
   },
   "outputs": [
    {
     "name": "stdout",
     "output_type": "stream",
     "text": [
      "[[ -1.32378371 -17.58259052  -0.78841099]\n",
      " [ -0.78447129  -3.54639211   0.58523182]]\n"
     ]
    }
   ],
   "source": [
    "# Get the matrix of reciprocals\n",
    "reciprocal_matrix = 1 / multiplied_matrix\n",
    "\n",
    "# Print the reciprocal matrix\n",
    "print(reciprocal_matrix)"
   ]
  },
  {
   "cell_type": "code",
   "execution_count": 27,
   "id": "49460a08-cb93-4278-9334-98d221ca70ca",
   "metadata": {
    "tags": []
   },
   "outputs": [
    {
     "name": "stdout",
     "output_type": "stream",
     "text": [
      "[[0. 0. 0. 0.]\n",
      " [0. 0. 0. 0.]]\n",
      "[[1. 1. 1. 1.]\n",
      " [1. 1. 1. 1.]]\n"
     ]
    }
   ],
   "source": [
    "# Create a 2x4 array of zeros\n",
    "zeros_array = np.zeros((2, 4))\n",
    "\n",
    "# Create a 2x4 array of ones\n",
    "ones_array = np.ones((2, 4))\n",
    "\n",
    "# Print the arrays\n",
    "print(zeros_array)\n",
    "\n",
    "print(ones_array)"
   ]
  },
  {
   "cell_type": "code",
   "execution_count": 28,
   "id": "f958e746-2ecc-4d50-bc5c-f71302c88575",
   "metadata": {
    "tags": []
   },
   "outputs": [
    {
     "name": "stdout",
     "output_type": "stream",
     "text": [
      "[[1. 0. 0. 0.]\n",
      " [0. 1. 0. 0.]\n",
      " [0. 0. 1. 0.]\n",
      " [0. 0. 0. 1.]]\n"
     ]
    }
   ],
   "source": [
    "# Create a 4x4 identity matrix\n",
    "identity_matrix = np.eye(4)\n",
    "\n",
    "# Print the identity matrix\n",
    "print(identity_matrix)"
   ]
  },
  {
   "cell_type": "code",
   "execution_count": 29,
   "id": "bdbdbb8d-b2d3-4eff-8095-da940f3f4a40",
   "metadata": {
    "tags": []
   },
   "outputs": [
    {
     "name": "stdout",
     "output_type": "stream",
     "text": [
      "[0.82927016 0.17888446 0.25513774 0.62991702 0.38612481]\n",
      "[0.17888446 0.25513774 0.62991702]\n",
      "[0.17888446 0.25513774 0.62991702]\n"
     ]
    }
   ],
   "source": [
    "# Generate a vector of random numbers of length 5\n",
    "random_vector = np.random.rand(5)\n",
    "\n",
    "# Print the generated random vector\n",
    "print(random_vector)\n",
    "\n",
    "# Print a slice consisting of 3 elements, beginning with the second element\n",
    "slice_1 = random_vector[1:4]  # Slices from index 1 to index 3 (exclusive)\n",
    "print(slice_1)\n",
    "\n",
    "# Print a slice that excludes the first and last elements\n",
    "slice_2 = random_vector[1:-1]  # Slices from index 1 to the second to last index\n",
    "print(slice_2)"
   ]
  },
  {
   "cell_type": "code",
   "execution_count": 31,
   "id": "a9c54203-38f3-483c-a7e7-0678e926321e",
   "metadata": {
    "tags": []
   },
   "outputs": [
    {
     "data": {
      "text/plain": [
       "array([0.82927016, 0.17888446, 0.25513774, 0.62991702, 0.38612481])"
      ]
     },
     "execution_count": 31,
     "metadata": {},
     "output_type": "execute_result"
    }
   ],
   "source": [
    "random_vector[random_vector > 0.15]"
   ]
  },
  {
   "cell_type": "code",
   "execution_count": 33,
   "id": "9ca673bc-be85-4ba7-9b25-38c63392ffce",
   "metadata": {
    "tags": []
   },
   "outputs": [
    {
     "name": "stdout",
     "output_type": "stream",
     "text": [
      "[[0.63089559 0.51613271 0.37955619]\n",
      " [0.80860233 0.35392594 0.97640463]\n",
      " [0.61902085 0.25816026 0.9129806 ]]\n",
      "[[0.80860233 0.35392594]\n",
      " [0.61902085 0.25816026]]\n"
     ]
    }
   ],
   "source": [
    "# Generate a 3x3 array of random numbers\n",
    "random_array = np.random.rand(3, 3)\n",
    "\n",
    "# Print the generated random array\n",
    "print(random_array)\n",
    "\n",
    "# Select all rows but the first and all columns but the last\n",
    "selected_slice = random_array[1:, :-1]  # All rows from index 1 to the end, all columns from the start to the second last\n",
    "\n",
    "# Print the selected slice\n",
    "print(selected_slice)"
   ]
  },
  {
   "cell_type": "code",
   "execution_count": 42,
   "id": "45a226a5-b98a-47f9-b7a1-ab2ae0f50d6b",
   "metadata": {
    "tags": []
   },
   "outputs": [
    {
     "name": "stdout",
     "output_type": "stream",
     "text": [
      "Reverse Sorted Rolls: [5, 5, 5, 4, 4, 3, 3, 2, 2, 1]\n",
      "Sorted Rolls: [1, 1, 3, 3, 4, 8, 9, 10, 10, 10]\n"
     ]
    }
   ],
   "source": [
    "def roll_dice(n, m=6, reverse=False):\n",
    "    \"\"\"\n",
    "    Roll a die with m sides n times and return the results as a sorted list.\n",
    "\n",
    "    Parameters:\n",
    "    n (int): Number of times to roll the die.\n",
    "    m (int, optional): Number of sides on the die. Default is 6.\n",
    "    reverse (bool, optional): If True, return results in reverse sorted order. Default is False.\n",
    "\n",
    "    Returns:\n",
    "    list: A sorted list of integers representing the results of the rolls.\n",
    "    \"\"\"\n",
    "    rolls = np.random.randint(1, m + 1, size=n)  # Generate random rolls\n",
    "    sorted_rolls = np.sort(rolls)  # Sort the rolls\n",
    "    \n",
    "    if reverse:\n",
    "        return sorted_rolls[::-1].tolist()  # Return in reverse order\n",
    "    else:\n",
    "        return sorted_rolls.tolist()  # Return in normal order\n",
    "\n",
    "# Example usage\n",
    "result_reverse = roll_dice(10, m=6, reverse=True)\n",
    "print(\"Reverse Sorted Rolls:\", result_reverse)\n",
    "\n",
    "result = roll_dice(10, m=12)\n",
    "print(\"Sorted Rolls:\", result)"
   ]
  }
 ],
 "metadata": {
  "kernelspec": {
   "display_name": "Python 3 (ipykernel)",
   "language": "python",
   "name": "python3"
  },
  "language_info": {
   "codemirror_mode": {
    "name": "ipython",
    "version": 3
   },
   "file_extension": ".py",
   "mimetype": "text/x-python",
   "name": "python",
   "nbconvert_exporter": "python",
   "pygments_lexer": "ipython3",
   "version": "3.11.4"
  }
 },
 "nbformat": 4,
 "nbformat_minor": 5
}
