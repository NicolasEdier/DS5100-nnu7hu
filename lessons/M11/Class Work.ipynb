{
 "cells": [
  {
   "cell_type": "code",
   "execution_count": 1,
   "id": "80263af9-6185-4874-b615-e7d5b88fc24c",
   "metadata": {
    "tags": []
   },
   "outputs": [
    {
     "name": "stderr",
     "output_type": "stream",
     "text": [
      "── \u001b[1mAttaching core tidyverse packages\u001b[22m ──────────────────────── tidyverse 2.0.0 ──\n",
      "\u001b[32m✔\u001b[39m \u001b[34mdplyr    \u001b[39m 1.1.4     \u001b[32m✔\u001b[39m \u001b[34mreadr    \u001b[39m 2.1.5\n",
      "\u001b[32m✔\u001b[39m \u001b[34mforcats  \u001b[39m 1.0.0     \u001b[32m✔\u001b[39m \u001b[34mstringr  \u001b[39m 1.5.1\n",
      "\u001b[32m✔\u001b[39m \u001b[34mggplot2  \u001b[39m 3.5.1     \u001b[32m✔\u001b[39m \u001b[34mtibble   \u001b[39m 3.2.1\n",
      "\u001b[32m✔\u001b[39m \u001b[34mlubridate\u001b[39m 1.9.3     \u001b[32m✔\u001b[39m \u001b[34mtidyr    \u001b[39m 1.3.1\n",
      "\u001b[32m✔\u001b[39m \u001b[34mpurrr    \u001b[39m 1.0.2     \n",
      "── \u001b[1mConflicts\u001b[22m ────────────────────────────────────────── tidyverse_conflicts() ──\n",
      "\u001b[31m✖\u001b[39m \u001b[34mdplyr\u001b[39m::\u001b[32mfilter()\u001b[39m masks \u001b[34mstats\u001b[39m::filter()\n",
      "\u001b[31m✖\u001b[39m \u001b[34mdplyr\u001b[39m::\u001b[32mlag()\u001b[39m    masks \u001b[34mstats\u001b[39m::lag()\n",
      "\u001b[36mℹ\u001b[39m Use the conflicted package (\u001b[3m\u001b[34m<http://conflicted.r-lib.org/>\u001b[39m\u001b[23m) to force all conflicts to become errors\n"
     ]
    }
   ],
   "source": [
    "library(tidyverse)"
   ]
  },
  {
   "cell_type": "code",
   "execution_count": 2,
   "id": "8283941e-39ae-4a3b-915a-11f8bc7268e5",
   "metadata": {
    "tags": []
   },
   "outputs": [],
   "source": [
    "scores <- \n",
    "  tibble(\n",
    "    name = c(\"mike\", \"carol\", \"greg\", \"marcia\", \"peter\", \"jan\", \"bobby\", \"cindy\", \"alice\"),\n",
    "    school = c(\"south\", \"south\", \"south\", \"south\", \"north\", \"north\", \"north\", \"south\", \"south\"),\n",
    "    teacher = c(\"johnson\", \"johnson\", \"johnson\", \"johnson\",  \"smith\", \"smith\", \"smith\", \"perry\", \"perry\"),\n",
    "    sex = c(\"male\", \"female\", \"male\", \"female\", \"male\", \"female\", \"male\", \"female\", \"female\"),\n",
    "    math_score = c(4, 3, 2, 4, 3, 4, 5, 4, 5),\n",
    "    reading_score = c(1, 5, 2, 4, 5, 4, 1, 5, 4)\n",
    ")"
   ]
  },
  {
   "cell_type": "code",
   "execution_count": 3,
   "id": "99f3d3f4-68f7-42ff-b995-23ea8ee5bc0c",
   "metadata": {
    "tags": []
   },
   "outputs": [
    {
     "data": {
      "text/html": [
       "<table class=\"dataframe\">\n",
       "<caption>A tibble: 9 × 6</caption>\n",
       "<thead>\n",
       "\t<tr><th scope=col>name</th><th scope=col>school</th><th scope=col>teacher</th><th scope=col>sex</th><th scope=col>math_score</th><th scope=col>reading_score</th></tr>\n",
       "\t<tr><th scope=col>&lt;chr&gt;</th><th scope=col>&lt;chr&gt;</th><th scope=col>&lt;chr&gt;</th><th scope=col>&lt;chr&gt;</th><th scope=col>&lt;dbl&gt;</th><th scope=col>&lt;dbl&gt;</th></tr>\n",
       "</thead>\n",
       "<tbody>\n",
       "\t<tr><td>mike  </td><td>south</td><td>johnson</td><td>male  </td><td>4</td><td>1</td></tr>\n",
       "\t<tr><td>carol </td><td>south</td><td>johnson</td><td>female</td><td>3</td><td>5</td></tr>\n",
       "\t<tr><td>greg  </td><td>south</td><td>johnson</td><td>male  </td><td>2</td><td>2</td></tr>\n",
       "\t<tr><td>marcia</td><td>south</td><td>johnson</td><td>female</td><td>4</td><td>4</td></tr>\n",
       "\t<tr><td>peter </td><td>north</td><td>smith  </td><td>male  </td><td>3</td><td>5</td></tr>\n",
       "\t<tr><td>jan   </td><td>north</td><td>smith  </td><td>female</td><td>4</td><td>4</td></tr>\n",
       "\t<tr><td>bobby </td><td>north</td><td>smith  </td><td>male  </td><td>5</td><td>1</td></tr>\n",
       "\t<tr><td>cindy </td><td>south</td><td>perry  </td><td>female</td><td>4</td><td>5</td></tr>\n",
       "\t<tr><td>alice </td><td>south</td><td>perry  </td><td>female</td><td>5</td><td>4</td></tr>\n",
       "</tbody>\n",
       "</table>\n"
      ],
      "text/latex": [
       "A tibble: 9 × 6\n",
       "\\begin{tabular}{llllll}\n",
       " name & school & teacher & sex & math\\_score & reading\\_score\\\\\n",
       " <chr> & <chr> & <chr> & <chr> & <dbl> & <dbl>\\\\\n",
       "\\hline\n",
       "\t mike   & south & johnson & male   & 4 & 1\\\\\n",
       "\t carol  & south & johnson & female & 3 & 5\\\\\n",
       "\t greg   & south & johnson & male   & 2 & 2\\\\\n",
       "\t marcia & south & johnson & female & 4 & 4\\\\\n",
       "\t peter  & north & smith   & male   & 3 & 5\\\\\n",
       "\t jan    & north & smith   & female & 4 & 4\\\\\n",
       "\t bobby  & north & smith   & male   & 5 & 1\\\\\n",
       "\t cindy  & south & perry   & female & 4 & 5\\\\\n",
       "\t alice  & south & perry   & female & 5 & 4\\\\\n",
       "\\end{tabular}\n"
      ],
      "text/markdown": [
       "\n",
       "A tibble: 9 × 6\n",
       "\n",
       "| name &lt;chr&gt; | school &lt;chr&gt; | teacher &lt;chr&gt; | sex &lt;chr&gt; | math_score &lt;dbl&gt; | reading_score &lt;dbl&gt; |\n",
       "|---|---|---|---|---|---|\n",
       "| mike   | south | johnson | male   | 4 | 1 |\n",
       "| carol  | south | johnson | female | 3 | 5 |\n",
       "| greg   | south | johnson | male   | 2 | 2 |\n",
       "| marcia | south | johnson | female | 4 | 4 |\n",
       "| peter  | north | smith   | male   | 3 | 5 |\n",
       "| jan    | north | smith   | female | 4 | 4 |\n",
       "| bobby  | north | smith   | male   | 5 | 1 |\n",
       "| cindy  | south | perry   | female | 4 | 5 |\n",
       "| alice  | south | perry   | female | 5 | 4 |\n",
       "\n"
      ],
      "text/plain": [
       "  name   school teacher sex    math_score reading_score\n",
       "1 mike   south  johnson male   4          1            \n",
       "2 carol  south  johnson female 3          5            \n",
       "3 greg   south  johnson male   2          2            \n",
       "4 marcia south  johnson female 4          4            \n",
       "5 peter  north  smith   male   3          5            \n",
       "6 jan    north  smith   female 4          4            \n",
       "7 bobby  north  smith   male   5          1            \n",
       "8 cindy  south  perry   female 4          5            \n",
       "9 alice  south  perry   female 5          4            "
      ]
     },
     "metadata": {},
     "output_type": "display_data"
    }
   ],
   "source": [
    "scores"
   ]
  },
  {
   "cell_type": "code",
   "execution_count": 7,
   "id": "6f393869-0a9c-4396-b90b-bd970bd371dd",
   "metadata": {
    "tags": []
   },
   "outputs": [
    {
     "data": {
      "text/html": [
       "<table class=\"dataframe\">\n",
       "<caption>A tibble: 3 × 6</caption>\n",
       "<thead>\n",
       "\t<tr><th scope=col>name</th><th scope=col>school</th><th scope=col>teacher</th><th scope=col>sex</th><th scope=col>math_score</th><th scope=col>reading_score</th></tr>\n",
       "\t<tr><th scope=col>&lt;chr&gt;</th><th scope=col>&lt;chr&gt;</th><th scope=col>&lt;chr&gt;</th><th scope=col>&lt;chr&gt;</th><th scope=col>&lt;dbl&gt;</th><th scope=col>&lt;dbl&gt;</th></tr>\n",
       "</thead>\n",
       "<tbody>\n",
       "\t<tr><td>mike </td><td>south</td><td>johnson</td><td>male  </td><td>4</td><td>1</td></tr>\n",
       "\t<tr><td>carol</td><td>south</td><td>johnson</td><td>female</td><td>3</td><td>5</td></tr>\n",
       "\t<tr><td>greg </td><td>south</td><td>johnson</td><td>male  </td><td>2</td><td>2</td></tr>\n",
       "</tbody>\n",
       "</table>\n"
      ],
      "text/latex": [
       "A tibble: 3 × 6\n",
       "\\begin{tabular}{llllll}\n",
       " name & school & teacher & sex & math\\_score & reading\\_score\\\\\n",
       " <chr> & <chr> & <chr> & <chr> & <dbl> & <dbl>\\\\\n",
       "\\hline\n",
       "\t mike  & south & johnson & male   & 4 & 1\\\\\n",
       "\t carol & south & johnson & female & 3 & 5\\\\\n",
       "\t greg  & south & johnson & male   & 2 & 2\\\\\n",
       "\\end{tabular}\n"
      ],
      "text/markdown": [
       "\n",
       "A tibble: 3 × 6\n",
       "\n",
       "| name &lt;chr&gt; | school &lt;chr&gt; | teacher &lt;chr&gt; | sex &lt;chr&gt; | math_score &lt;dbl&gt; | reading_score &lt;dbl&gt; |\n",
       "|---|---|---|---|---|---|\n",
       "| mike  | south | johnson | male   | 4 | 1 |\n",
       "| carol | south | johnson | female | 3 | 5 |\n",
       "| greg  | south | johnson | male   | 2 | 2 |\n",
       "\n"
      ],
      "text/plain": [
       "  name  school teacher sex    math_score reading_score\n",
       "1 mike  south  johnson male   4          1            \n",
       "2 carol south  johnson female 3          5            \n",
       "3 greg  south  johnson male   2          2            "
      ]
     },
     "metadata": {},
     "output_type": "display_data"
    }
   ],
   "source": [
    "scores %>%\n",
    "    slice(1:3)"
   ]
  },
  {
   "cell_type": "code",
   "execution_count": 8,
   "id": "33fb22a3-1a42-4d8e-b324-adabdc29c0dc",
   "metadata": {
    "tags": []
   },
   "outputs": [
    {
     "data": {
      "text/html": [
       "<table class=\"dataframe\">\n",
       "<caption>A tibble: 9 × 6</caption>\n",
       "<thead>\n",
       "\t<tr><th scope=col>name</th><th scope=col>school</th><th scope=col>teacher</th><th scope=col>sex</th><th scope=col>math_score</th><th scope=col>reading_score</th></tr>\n",
       "\t<tr><th scope=col>&lt;chr&gt;</th><th scope=col>&lt;chr&gt;</th><th scope=col>&lt;chr&gt;</th><th scope=col>&lt;chr&gt;</th><th scope=col>&lt;dbl&gt;</th><th scope=col>&lt;dbl&gt;</th></tr>\n",
       "</thead>\n",
       "<tbody>\n",
       "\t<tr><td>jan   </td><td>north</td><td>smith  </td><td>female</td><td>4</td><td>4</td></tr>\n",
       "\t<tr><td>peter </td><td>north</td><td>smith  </td><td>male  </td><td>3</td><td>5</td></tr>\n",
       "\t<tr><td>bobby </td><td>north</td><td>smith  </td><td>male  </td><td>5</td><td>1</td></tr>\n",
       "\t<tr><td>carol </td><td>south</td><td>johnson</td><td>female</td><td>3</td><td>5</td></tr>\n",
       "\t<tr><td>marcia</td><td>south</td><td>johnson</td><td>female</td><td>4</td><td>4</td></tr>\n",
       "\t<tr><td>greg  </td><td>south</td><td>johnson</td><td>male  </td><td>2</td><td>2</td></tr>\n",
       "\t<tr><td>mike  </td><td>south</td><td>johnson</td><td>male  </td><td>4</td><td>1</td></tr>\n",
       "\t<tr><td>cindy </td><td>south</td><td>perry  </td><td>female</td><td>4</td><td>5</td></tr>\n",
       "\t<tr><td>alice </td><td>south</td><td>perry  </td><td>female</td><td>5</td><td>4</td></tr>\n",
       "</tbody>\n",
       "</table>\n"
      ],
      "text/latex": [
       "A tibble: 9 × 6\n",
       "\\begin{tabular}{llllll}\n",
       " name & school & teacher & sex & math\\_score & reading\\_score\\\\\n",
       " <chr> & <chr> & <chr> & <chr> & <dbl> & <dbl>\\\\\n",
       "\\hline\n",
       "\t jan    & north & smith   & female & 4 & 4\\\\\n",
       "\t peter  & north & smith   & male   & 3 & 5\\\\\n",
       "\t bobby  & north & smith   & male   & 5 & 1\\\\\n",
       "\t carol  & south & johnson & female & 3 & 5\\\\\n",
       "\t marcia & south & johnson & female & 4 & 4\\\\\n",
       "\t greg   & south & johnson & male   & 2 & 2\\\\\n",
       "\t mike   & south & johnson & male   & 4 & 1\\\\\n",
       "\t cindy  & south & perry   & female & 4 & 5\\\\\n",
       "\t alice  & south & perry   & female & 5 & 4\\\\\n",
       "\\end{tabular}\n"
      ],
      "text/markdown": [
       "\n",
       "A tibble: 9 × 6\n",
       "\n",
       "| name &lt;chr&gt; | school &lt;chr&gt; | teacher &lt;chr&gt; | sex &lt;chr&gt; | math_score &lt;dbl&gt; | reading_score &lt;dbl&gt; |\n",
       "|---|---|---|---|---|---|\n",
       "| jan    | north | smith   | female | 4 | 4 |\n",
       "| peter  | north | smith   | male   | 3 | 5 |\n",
       "| bobby  | north | smith   | male   | 5 | 1 |\n",
       "| carol  | south | johnson | female | 3 | 5 |\n",
       "| marcia | south | johnson | female | 4 | 4 |\n",
       "| greg   | south | johnson | male   | 2 | 2 |\n",
       "| mike   | south | johnson | male   | 4 | 1 |\n",
       "| cindy  | south | perry   | female | 4 | 5 |\n",
       "| alice  | south | perry   | female | 5 | 4 |\n",
       "\n"
      ],
      "text/plain": [
       "  name   school teacher sex    math_score reading_score\n",
       "1 jan    north  smith   female 4          4            \n",
       "2 peter  north  smith   male   3          5            \n",
       "3 bobby  north  smith   male   5          1            \n",
       "4 carol  south  johnson female 3          5            \n",
       "5 marcia south  johnson female 4          4            \n",
       "6 greg   south  johnson male   2          2            \n",
       "7 mike   south  johnson male   4          1            \n",
       "8 cindy  south  perry   female 4          5            \n",
       "9 alice  south  perry   female 5          4            "
      ]
     },
     "metadata": {},
     "output_type": "display_data"
    }
   ],
   "source": [
    "scores %>%\n",
    "    arrange(school, teacher, sex, math_score, reading_score)"
   ]
  },
  {
   "cell_type": "code",
   "execution_count": 9,
   "id": "92c9107b-3c57-45a6-967a-7f7fdfd93163",
   "metadata": {
    "tags": []
   },
   "outputs": [
    {
     "data": {
      "text/html": [
       "<table class=\"dataframe\">\n",
       "<caption>A tibble: 9 × 5</caption>\n",
       "<thead>\n",
       "\t<tr><th scope=col>name</th><th scope=col>school</th><th scope=col>teacher</th><th scope=col>math_score</th><th scope=col>reading_score</th></tr>\n",
       "\t<tr><th scope=col>&lt;chr&gt;</th><th scope=col>&lt;chr&gt;</th><th scope=col>&lt;chr&gt;</th><th scope=col>&lt;dbl&gt;</th><th scope=col>&lt;dbl&gt;</th></tr>\n",
       "</thead>\n",
       "<tbody>\n",
       "\t<tr><td>mike  </td><td>south</td><td>johnson</td><td>4</td><td>1</td></tr>\n",
       "\t<tr><td>carol </td><td>south</td><td>johnson</td><td>3</td><td>5</td></tr>\n",
       "\t<tr><td>greg  </td><td>south</td><td>johnson</td><td>2</td><td>2</td></tr>\n",
       "\t<tr><td>marcia</td><td>south</td><td>johnson</td><td>4</td><td>4</td></tr>\n",
       "\t<tr><td>peter </td><td>north</td><td>smith  </td><td>3</td><td>5</td></tr>\n",
       "\t<tr><td>jan   </td><td>north</td><td>smith  </td><td>4</td><td>4</td></tr>\n",
       "\t<tr><td>bobby </td><td>north</td><td>smith  </td><td>5</td><td>1</td></tr>\n",
       "\t<tr><td>cindy </td><td>south</td><td>perry  </td><td>4</td><td>5</td></tr>\n",
       "\t<tr><td>alice </td><td>south</td><td>perry  </td><td>5</td><td>4</td></tr>\n",
       "</tbody>\n",
       "</table>\n"
      ],
      "text/latex": [
       "A tibble: 9 × 5\n",
       "\\begin{tabular}{lllll}\n",
       " name & school & teacher & math\\_score & reading\\_score\\\\\n",
       " <chr> & <chr> & <chr> & <dbl> & <dbl>\\\\\n",
       "\\hline\n",
       "\t mike   & south & johnson & 4 & 1\\\\\n",
       "\t carol  & south & johnson & 3 & 5\\\\\n",
       "\t greg   & south & johnson & 2 & 2\\\\\n",
       "\t marcia & south & johnson & 4 & 4\\\\\n",
       "\t peter  & north & smith   & 3 & 5\\\\\n",
       "\t jan    & north & smith   & 4 & 4\\\\\n",
       "\t bobby  & north & smith   & 5 & 1\\\\\n",
       "\t cindy  & south & perry   & 4 & 5\\\\\n",
       "\t alice  & south & perry   & 5 & 4\\\\\n",
       "\\end{tabular}\n"
      ],
      "text/markdown": [
       "\n",
       "A tibble: 9 × 5\n",
       "\n",
       "| name &lt;chr&gt; | school &lt;chr&gt; | teacher &lt;chr&gt; | math_score &lt;dbl&gt; | reading_score &lt;dbl&gt; |\n",
       "|---|---|---|---|---|\n",
       "| mike   | south | johnson | 4 | 1 |\n",
       "| carol  | south | johnson | 3 | 5 |\n",
       "| greg   | south | johnson | 2 | 2 |\n",
       "| marcia | south | johnson | 4 | 4 |\n",
       "| peter  | north | smith   | 3 | 5 |\n",
       "| jan    | north | smith   | 4 | 4 |\n",
       "| bobby  | north | smith   | 5 | 1 |\n",
       "| cindy  | south | perry   | 4 | 5 |\n",
       "| alice  | south | perry   | 5 | 4 |\n",
       "\n"
      ],
      "text/plain": [
       "  name   school teacher math_score reading_score\n",
       "1 mike   south  johnson 4          1            \n",
       "2 carol  south  johnson 3          5            \n",
       "3 greg   south  johnson 2          2            \n",
       "4 marcia south  johnson 4          4            \n",
       "5 peter  north  smith   3          5            \n",
       "6 jan    north  smith   4          4            \n",
       "7 bobby  north  smith   5          1            \n",
       "8 cindy  south  perry   4          5            \n",
       "9 alice  south  perry   5          4            "
      ]
     },
     "metadata": {},
     "output_type": "display_data"
    }
   ],
   "source": [
    "scores %>%\n",
    "    select(-sex)"
   ]
  },
  {
   "cell_type": "code",
   "execution_count": 10,
   "id": "74dca3e0-7904-4ef8-8ac9-f8ba9e496328",
   "metadata": {
    "tags": []
   },
   "outputs": [
    {
     "data": {
      "text/html": [
       "<table class=\"dataframe\">\n",
       "<caption>A tibble: 9 × 4</caption>\n",
       "<thead>\n",
       "\t<tr><th scope=col>name</th><th scope=col>school</th><th scope=col>teacher</th><th scope=col>sex</th></tr>\n",
       "\t<tr><th scope=col>&lt;chr&gt;</th><th scope=col>&lt;chr&gt;</th><th scope=col>&lt;chr&gt;</th><th scope=col>&lt;chr&gt;</th></tr>\n",
       "</thead>\n",
       "<tbody>\n",
       "\t<tr><td>mike  </td><td>south</td><td>johnson</td><td>male  </td></tr>\n",
       "\t<tr><td>carol </td><td>south</td><td>johnson</td><td>female</td></tr>\n",
       "\t<tr><td>greg  </td><td>south</td><td>johnson</td><td>male  </td></tr>\n",
       "\t<tr><td>marcia</td><td>south</td><td>johnson</td><td>female</td></tr>\n",
       "\t<tr><td>peter </td><td>north</td><td>smith  </td><td>male  </td></tr>\n",
       "\t<tr><td>jan   </td><td>north</td><td>smith  </td><td>female</td></tr>\n",
       "\t<tr><td>bobby </td><td>north</td><td>smith  </td><td>male  </td></tr>\n",
       "\t<tr><td>cindy </td><td>south</td><td>perry  </td><td>female</td></tr>\n",
       "\t<tr><td>alice </td><td>south</td><td>perry  </td><td>female</td></tr>\n",
       "</tbody>\n",
       "</table>\n"
      ],
      "text/latex": [
       "A tibble: 9 × 4\n",
       "\\begin{tabular}{llll}\n",
       " name & school & teacher & sex\\\\\n",
       " <chr> & <chr> & <chr> & <chr>\\\\\n",
       "\\hline\n",
       "\t mike   & south & johnson & male  \\\\\n",
       "\t carol  & south & johnson & female\\\\\n",
       "\t greg   & south & johnson & male  \\\\\n",
       "\t marcia & south & johnson & female\\\\\n",
       "\t peter  & north & smith   & male  \\\\\n",
       "\t jan    & north & smith   & female\\\\\n",
       "\t bobby  & north & smith   & male  \\\\\n",
       "\t cindy  & south & perry   & female\\\\\n",
       "\t alice  & south & perry   & female\\\\\n",
       "\\end{tabular}\n"
      ],
      "text/markdown": [
       "\n",
       "A tibble: 9 × 4\n",
       "\n",
       "| name &lt;chr&gt; | school &lt;chr&gt; | teacher &lt;chr&gt; | sex &lt;chr&gt; |\n",
       "|---|---|---|---|\n",
       "| mike   | south | johnson | male   |\n",
       "| carol  | south | johnson | female |\n",
       "| greg   | south | johnson | male   |\n",
       "| marcia | south | johnson | female |\n",
       "| peter  | north | smith   | male   |\n",
       "| jan    | north | smith   | female |\n",
       "| bobby  | north | smith   | male   |\n",
       "| cindy  | south | perry   | female |\n",
       "| alice  | south | perry   | female |\n",
       "\n"
      ],
      "text/plain": [
       "  name   school teacher sex   \n",
       "1 mike   south  johnson male  \n",
       "2 carol  south  johnson female\n",
       "3 greg   south  johnson male  \n",
       "4 marcia south  johnson female\n",
       "5 peter  north  smith   male  \n",
       "6 jan    north  smith   female\n",
       "7 bobby  north  smith   male  \n",
       "8 cindy  south  perry   female\n",
       "9 alice  south  perry   female"
      ]
     },
     "metadata": {},
     "output_type": "display_data"
    }
   ],
   "source": [
    "scores %>%\n",
    "    select(-math_score, -reading_score)"
   ]
  },
  {
   "cell_type": "code",
   "execution_count": 12,
   "id": "78056ef5-c2fb-4fcf-9a68-47c06db00d84",
   "metadata": {
    "tags": []
   },
   "outputs": [
    {
     "data": {
      "text/html": [
       "<table class=\"dataframe\">\n",
       "<caption>A tibble: 9 × 6</caption>\n",
       "<thead>\n",
       "\t<tr><th scope=col>sex</th><th scope=col>name</th><th scope=col>school</th><th scope=col>teacher</th><th scope=col>math_score</th><th scope=col>reading_score</th></tr>\n",
       "\t<tr><th scope=col>&lt;chr&gt;</th><th scope=col>&lt;chr&gt;</th><th scope=col>&lt;chr&gt;</th><th scope=col>&lt;chr&gt;</th><th scope=col>&lt;dbl&gt;</th><th scope=col>&lt;dbl&gt;</th></tr>\n",
       "</thead>\n",
       "<tbody>\n",
       "\t<tr><td>male  </td><td>mike  </td><td>south</td><td>johnson</td><td>4</td><td>1</td></tr>\n",
       "\t<tr><td>female</td><td>carol </td><td>south</td><td>johnson</td><td>3</td><td>5</td></tr>\n",
       "\t<tr><td>male  </td><td>greg  </td><td>south</td><td>johnson</td><td>2</td><td>2</td></tr>\n",
       "\t<tr><td>female</td><td>marcia</td><td>south</td><td>johnson</td><td>4</td><td>4</td></tr>\n",
       "\t<tr><td>male  </td><td>peter </td><td>north</td><td>smith  </td><td>3</td><td>5</td></tr>\n",
       "\t<tr><td>female</td><td>jan   </td><td>north</td><td>smith  </td><td>4</td><td>4</td></tr>\n",
       "\t<tr><td>male  </td><td>bobby </td><td>north</td><td>smith  </td><td>5</td><td>1</td></tr>\n",
       "\t<tr><td>female</td><td>cindy </td><td>south</td><td>perry  </td><td>4</td><td>5</td></tr>\n",
       "\t<tr><td>female</td><td>alice </td><td>south</td><td>perry  </td><td>5</td><td>4</td></tr>\n",
       "</tbody>\n",
       "</table>\n"
      ],
      "text/latex": [
       "A tibble: 9 × 6\n",
       "\\begin{tabular}{llllll}\n",
       " sex & name & school & teacher & math\\_score & reading\\_score\\\\\n",
       " <chr> & <chr> & <chr> & <chr> & <dbl> & <dbl>\\\\\n",
       "\\hline\n",
       "\t male   & mike   & south & johnson & 4 & 1\\\\\n",
       "\t female & carol  & south & johnson & 3 & 5\\\\\n",
       "\t male   & greg   & south & johnson & 2 & 2\\\\\n",
       "\t female & marcia & south & johnson & 4 & 4\\\\\n",
       "\t male   & peter  & north & smith   & 3 & 5\\\\\n",
       "\t female & jan    & north & smith   & 4 & 4\\\\\n",
       "\t male   & bobby  & north & smith   & 5 & 1\\\\\n",
       "\t female & cindy  & south & perry   & 4 & 5\\\\\n",
       "\t female & alice  & south & perry   & 5 & 4\\\\\n",
       "\\end{tabular}\n"
      ],
      "text/markdown": [
       "\n",
       "A tibble: 9 × 6\n",
       "\n",
       "| sex &lt;chr&gt; | name &lt;chr&gt; | school &lt;chr&gt; | teacher &lt;chr&gt; | math_score &lt;dbl&gt; | reading_score &lt;dbl&gt; |\n",
       "|---|---|---|---|---|---|\n",
       "| male   | mike   | south | johnson | 4 | 1 |\n",
       "| female | carol  | south | johnson | 3 | 5 |\n",
       "| male   | greg   | south | johnson | 2 | 2 |\n",
       "| female | marcia | south | johnson | 4 | 4 |\n",
       "| male   | peter  | north | smith   | 3 | 5 |\n",
       "| female | jan    | north | smith   | 4 | 4 |\n",
       "| male   | bobby  | north | smith   | 5 | 1 |\n",
       "| female | cindy  | south | perry   | 4 | 5 |\n",
       "| female | alice  | south | perry   | 5 | 4 |\n",
       "\n"
      ],
      "text/plain": [
       "  sex    name   school teacher math_score reading_score\n",
       "1 male   mike   south  johnson 4          1            \n",
       "2 female carol  south  johnson 3          5            \n",
       "3 male   greg   south  johnson 2          2            \n",
       "4 female marcia south  johnson 4          4            \n",
       "5 male   peter  north  smith   3          5            \n",
       "6 female jan    north  smith   4          4            \n",
       "7 male   bobby  north  smith   5          1            \n",
       "8 female cindy  south  perry   4          5            \n",
       "9 female alice  south  perry   5          4            "
      ]
     },
     "metadata": {},
     "output_type": "display_data"
    }
   ],
   "source": [
    "scores %>%\n",
    "    select(sex, everything())"
   ]
  },
  {
   "cell_type": "code",
   "execution_count": 13,
   "id": "10017e47-e9c1-4827-83a5-503d2c218835",
   "metadata": {
    "tags": []
   },
   "outputs": [
    {
     "data": {
      "text/html": [
       "<table class=\"dataframe\">\n",
       "<caption>A tibble: 2 × 6</caption>\n",
       "<thead>\n",
       "\t<tr><th scope=col>name</th><th scope=col>school</th><th scope=col>teacher</th><th scope=col>sex</th><th scope=col>math_score</th><th scope=col>reading_score</th></tr>\n",
       "\t<tr><th scope=col>&lt;chr&gt;</th><th scope=col>&lt;chr&gt;</th><th scope=col>&lt;chr&gt;</th><th scope=col>&lt;chr&gt;</th><th scope=col>&lt;dbl&gt;</th><th scope=col>&lt;dbl&gt;</th></tr>\n",
       "</thead>\n",
       "<tbody>\n",
       "\t<tr><td>mike</td><td>south</td><td>johnson</td><td>male</td><td>4</td><td>1</td></tr>\n",
       "\t<tr><td>greg</td><td>south</td><td>johnson</td><td>male</td><td>2</td><td>2</td></tr>\n",
       "</tbody>\n",
       "</table>\n"
      ],
      "text/latex": [
       "A tibble: 2 × 6\n",
       "\\begin{tabular}{llllll}\n",
       " name & school & teacher & sex & math\\_score & reading\\_score\\\\\n",
       " <chr> & <chr> & <chr> & <chr> & <dbl> & <dbl>\\\\\n",
       "\\hline\n",
       "\t mike & south & johnson & male & 4 & 1\\\\\n",
       "\t greg & south & johnson & male & 2 & 2\\\\\n",
       "\\end{tabular}\n"
      ],
      "text/markdown": [
       "\n",
       "A tibble: 2 × 6\n",
       "\n",
       "| name &lt;chr&gt; | school &lt;chr&gt; | teacher &lt;chr&gt; | sex &lt;chr&gt; | math_score &lt;dbl&gt; | reading_score &lt;dbl&gt; |\n",
       "|---|---|---|---|---|---|\n",
       "| mike | south | johnson | male | 4 | 1 |\n",
       "| greg | south | johnson | male | 2 | 2 |\n",
       "\n"
      ],
      "text/plain": [
       "  name school teacher sex  math_score reading_score\n",
       "1 mike south  johnson male 4          1            \n",
       "2 greg south  johnson male 2          2            "
      ]
     },
     "metadata": {},
     "output_type": "display_data"
    }
   ],
   "source": [
    "scores %>%\n",
    "    filter(sex == \"male\" & school == \"south\")"
   ]
  },
  {
   "cell_type": "code",
   "execution_count": 14,
   "id": "3fc46bb6-ab3e-40df-901b-3b98496ee2d3",
   "metadata": {
    "tags": []
   },
   "outputs": [
    {
     "data": {
      "text/html": [
       "<table class=\"dataframe\">\n",
       "<caption>A tibble: 6 × 6</caption>\n",
       "<thead>\n",
       "\t<tr><th scope=col>name</th><th scope=col>school</th><th scope=col>teacher</th><th scope=col>sex</th><th scope=col>math_score</th><th scope=col>reading_score</th></tr>\n",
       "\t<tr><th scope=col>&lt;chr&gt;</th><th scope=col>&lt;chr&gt;</th><th scope=col>&lt;chr&gt;</th><th scope=col>&lt;chr&gt;</th><th scope=col>&lt;dbl&gt;</th><th scope=col>&lt;dbl&gt;</th></tr>\n",
       "</thead>\n",
       "<tbody>\n",
       "\t<tr><td>mike  </td><td>south</td><td>johnson</td><td>male  </td><td>4</td><td>1</td></tr>\n",
       "\t<tr><td>marcia</td><td>south</td><td>johnson</td><td>female</td><td>4</td><td>4</td></tr>\n",
       "\t<tr><td>jan   </td><td>north</td><td>smith  </td><td>female</td><td>4</td><td>4</td></tr>\n",
       "\t<tr><td>bobby </td><td>north</td><td>smith  </td><td>male  </td><td>5</td><td>1</td></tr>\n",
       "\t<tr><td>cindy </td><td>south</td><td>perry  </td><td>female</td><td>4</td><td>5</td></tr>\n",
       "\t<tr><td>alice </td><td>south</td><td>perry  </td><td>female</td><td>5</td><td>4</td></tr>\n",
       "</tbody>\n",
       "</table>\n"
      ],
      "text/latex": [
       "A tibble: 6 × 6\n",
       "\\begin{tabular}{llllll}\n",
       " name & school & teacher & sex & math\\_score & reading\\_score\\\\\n",
       " <chr> & <chr> & <chr> & <chr> & <dbl> & <dbl>\\\\\n",
       "\\hline\n",
       "\t mike   & south & johnson & male   & 4 & 1\\\\\n",
       "\t marcia & south & johnson & female & 4 & 4\\\\\n",
       "\t jan    & north & smith   & female & 4 & 4\\\\\n",
       "\t bobby  & north & smith   & male   & 5 & 1\\\\\n",
       "\t cindy  & south & perry   & female & 4 & 5\\\\\n",
       "\t alice  & south & perry   & female & 5 & 4\\\\\n",
       "\\end{tabular}\n"
      ],
      "text/markdown": [
       "\n",
       "A tibble: 6 × 6\n",
       "\n",
       "| name &lt;chr&gt; | school &lt;chr&gt; | teacher &lt;chr&gt; | sex &lt;chr&gt; | math_score &lt;dbl&gt; | reading_score &lt;dbl&gt; |\n",
       "|---|---|---|---|---|---|\n",
       "| mike   | south | johnson | male   | 4 | 1 |\n",
       "| marcia | south | johnson | female | 4 | 4 |\n",
       "| jan    | north | smith   | female | 4 | 4 |\n",
       "| bobby  | north | smith   | male   | 5 | 1 |\n",
       "| cindy  | south | perry   | female | 4 | 5 |\n",
       "| alice  | south | perry   | female | 5 | 4 |\n",
       "\n"
      ],
      "text/plain": [
       "  name   school teacher sex    math_score reading_score\n",
       "1 mike   south  johnson male   4          1            \n",
       "2 marcia south  johnson female 4          4            \n",
       "3 jan    north  smith   female 4          4            \n",
       "4 bobby  north  smith   male   5          1            \n",
       "5 cindy  south  perry   female 4          5            \n",
       "6 alice  south  perry   female 5          4            "
      ]
     },
     "metadata": {},
     "output_type": "display_data"
    }
   ],
   "source": [
    "scores %>%\n",
    "    filter(math_score > mean(math_score))"
   ]
  },
  {
   "cell_type": "code",
   "execution_count": 15,
   "id": "0dd707a7-8707-4071-8b76-28a545158466",
   "metadata": {
    "tags": []
   },
   "outputs": [
    {
     "data": {
      "text/html": [
       "<table class=\"dataframe\">\n",
       "<caption>A tibble: 4 × 6</caption>\n",
       "<thead>\n",
       "\t<tr><th scope=col>name</th><th scope=col>school</th><th scope=col>teacher</th><th scope=col>sex</th><th scope=col>math_score</th><th scope=col>reading_score</th></tr>\n",
       "\t<tr><th scope=col>&lt;chr&gt;</th><th scope=col>&lt;chr&gt;</th><th scope=col>&lt;chr&gt;</th><th scope=col>&lt;chr&gt;</th><th scope=col>&lt;dbl&gt;</th><th scope=col>&lt;dbl&gt;</th></tr>\n",
       "</thead>\n",
       "<tbody>\n",
       "\t<tr><td>marcia</td><td>south</td><td>johnson</td><td>female</td><td>4</td><td>4</td></tr>\n",
       "\t<tr><td>jan   </td><td>north</td><td>smith  </td><td>female</td><td>4</td><td>4</td></tr>\n",
       "\t<tr><td>cindy </td><td>south</td><td>perry  </td><td>female</td><td>4</td><td>5</td></tr>\n",
       "\t<tr><td>alice </td><td>south</td><td>perry  </td><td>female</td><td>5</td><td>4</td></tr>\n",
       "</tbody>\n",
       "</table>\n"
      ],
      "text/latex": [
       "A tibble: 4 × 6\n",
       "\\begin{tabular}{llllll}\n",
       " name & school & teacher & sex & math\\_score & reading\\_score\\\\\n",
       " <chr> & <chr> & <chr> & <chr> & <dbl> & <dbl>\\\\\n",
       "\\hline\n",
       "\t marcia & south & johnson & female & 4 & 4\\\\\n",
       "\t jan    & north & smith   & female & 4 & 4\\\\\n",
       "\t cindy  & south & perry   & female & 4 & 5\\\\\n",
       "\t alice  & south & perry   & female & 5 & 4\\\\\n",
       "\\end{tabular}\n"
      ],
      "text/markdown": [
       "\n",
       "A tibble: 4 × 6\n",
       "\n",
       "| name &lt;chr&gt; | school &lt;chr&gt; | teacher &lt;chr&gt; | sex &lt;chr&gt; | math_score &lt;dbl&gt; | reading_score &lt;dbl&gt; |\n",
       "|---|---|---|---|---|---|\n",
       "| marcia | south | johnson | female | 4 | 4 |\n",
       "| jan    | north | smith   | female | 4 | 4 |\n",
       "| cindy  | south | perry   | female | 4 | 5 |\n",
       "| alice  | south | perry   | female | 5 | 4 |\n",
       "\n"
      ],
      "text/plain": [
       "  name   school teacher sex    math_score reading_score\n",
       "1 marcia south  johnson female 4          4            \n",
       "2 jan    north  smith   female 4          4            \n",
       "3 cindy  south  perry   female 4          5            \n",
       "4 alice  south  perry   female 5          4            "
      ]
     },
     "metadata": {},
     "output_type": "display_data"
    }
   ],
   "source": [
    "scores %>%\n",
    "    filter(math_score >= 4 & reading_score >= 3)"
   ]
  },
  {
   "cell_type": "code",
   "execution_count": 17,
   "id": "ed215589-873b-40b2-9858-31b86bbc1cba",
   "metadata": {
    "tags": []
   },
   "outputs": [
    {
     "data": {
      "text/html": [
       "<table class=\"dataframe\">\n",
       "<caption>A tibble: 5 × 6</caption>\n",
       "<thead>\n",
       "\t<tr><th scope=col>name</th><th scope=col>school</th><th scope=col>teacher</th><th scope=col>sex</th><th scope=col>math_score</th><th scope=col>reading_score</th></tr>\n",
       "\t<tr><th scope=col>&lt;chr&gt;</th><th scope=col>&lt;chr&gt;</th><th scope=col>&lt;chr&gt;</th><th scope=col>&lt;chr&gt;</th><th scope=col>&lt;dbl&gt;</th><th scope=col>&lt;dbl&gt;</th></tr>\n",
       "</thead>\n",
       "<tbody>\n",
       "\t<tr><td>mike </td><td>south</td><td>johnson</td><td>male  </td><td>4</td><td>1</td></tr>\n",
       "\t<tr><td>carol</td><td>south</td><td>johnson</td><td>female</td><td>3</td><td>5</td></tr>\n",
       "\t<tr><td>greg </td><td>south</td><td>johnson</td><td>male  </td><td>2</td><td>2</td></tr>\n",
       "\t<tr><td>peter</td><td>north</td><td>smith  </td><td>male  </td><td>3</td><td>5</td></tr>\n",
       "\t<tr><td>bobby</td><td>north</td><td>smith  </td><td>male  </td><td>5</td><td>1</td></tr>\n",
       "</tbody>\n",
       "</table>\n"
      ],
      "text/latex": [
       "A tibble: 5 × 6\n",
       "\\begin{tabular}{llllll}\n",
       " name & school & teacher & sex & math\\_score & reading\\_score\\\\\n",
       " <chr> & <chr> & <chr> & <chr> & <dbl> & <dbl>\\\\\n",
       "\\hline\n",
       "\t mike  & south & johnson & male   & 4 & 1\\\\\n",
       "\t carol & south & johnson & female & 3 & 5\\\\\n",
       "\t greg  & south & johnson & male   & 2 & 2\\\\\n",
       "\t peter & north & smith   & male   & 3 & 5\\\\\n",
       "\t bobby & north & smith   & male   & 5 & 1\\\\\n",
       "\\end{tabular}\n"
      ],
      "text/markdown": [
       "\n",
       "A tibble: 5 × 6\n",
       "\n",
       "| name &lt;chr&gt; | school &lt;chr&gt; | teacher &lt;chr&gt; | sex &lt;chr&gt; | math_score &lt;dbl&gt; | reading_score &lt;dbl&gt; |\n",
       "|---|---|---|---|---|---|\n",
       "| mike  | south | johnson | male   | 4 | 1 |\n",
       "| carol | south | johnson | female | 3 | 5 |\n",
       "| greg  | south | johnson | male   | 2 | 2 |\n",
       "| peter | north | smith   | male   | 3 | 5 |\n",
       "| bobby | north | smith   | male   | 5 | 1 |\n",
       "\n"
      ],
      "text/plain": [
       "  name  school teacher sex    math_score reading_score\n",
       "1 mike  south  johnson male   4          1            \n",
       "2 carol south  johnson female 3          5            \n",
       "3 greg  south  johnson male   2          2            \n",
       "4 peter north  smith   male   3          5            \n",
       "5 bobby north  smith   male   5          1            "
      ]
     },
     "metadata": {},
     "output_type": "display_data"
    }
   ],
   "source": [
    "scores %>%\n",
    "    filter(math_score <= 3 | reading_score <= 3)"
   ]
  },
  {
   "cell_type": "code",
   "execution_count": 24,
   "id": "ecf77924-152d-470f-aa68-0404bf49db15",
   "metadata": {
    "tags": []
   },
   "outputs": [
    {
     "data": {
      "text/html": [
       "<table class=\"dataframe\">\n",
       "<caption>A tibble: 4 × 6</caption>\n",
       "<thead>\n",
       "\t<tr><th scope=col>name</th><th scope=col>school</th><th scope=col>teacher</th><th scope=col>sex</th><th scope=col>math_score</th><th scope=col>reading_score</th></tr>\n",
       "\t<tr><th scope=col>&lt;chr&gt;</th><th scope=col>&lt;chr&gt;</th><th scope=col>&lt;chr&gt;</th><th scope=col>&lt;chr&gt;</th><th scope=col>&lt;dbl&gt;</th><th scope=col>&lt;dbl&gt;</th></tr>\n",
       "</thead>\n",
       "<tbody>\n",
       "\t<tr><td>greg  </td><td>south</td><td>johnson</td><td>male  </td><td>2</td><td>2</td></tr>\n",
       "\t<tr><td>marcia</td><td>south</td><td>johnson</td><td>female</td><td>4</td><td>4</td></tr>\n",
       "\t<tr><td>jan   </td><td>north</td><td>smith  </td><td>female</td><td>4</td><td>4</td></tr>\n",
       "\t<tr><td>alice </td><td>south</td><td>perry  </td><td>female</td><td>5</td><td>4</td></tr>\n",
       "</tbody>\n",
       "</table>\n"
      ],
      "text/latex": [
       "A tibble: 4 × 6\n",
       "\\begin{tabular}{llllll}\n",
       " name & school & teacher & sex & math\\_score & reading\\_score\\\\\n",
       " <chr> & <chr> & <chr> & <chr> & <dbl> & <dbl>\\\\\n",
       "\\hline\n",
       "\t greg   & south & johnson & male   & 2 & 2\\\\\n",
       "\t marcia & south & johnson & female & 4 & 4\\\\\n",
       "\t jan    & north & smith   & female & 4 & 4\\\\\n",
       "\t alice  & south & perry   & female & 5 & 4\\\\\n",
       "\\end{tabular}\n"
      ],
      "text/markdown": [
       "\n",
       "A tibble: 4 × 6\n",
       "\n",
       "| name &lt;chr&gt; | school &lt;chr&gt; | teacher &lt;chr&gt; | sex &lt;chr&gt; | math_score &lt;dbl&gt; | reading_score &lt;dbl&gt; |\n",
       "|---|---|---|---|---|---|\n",
       "| greg   | south | johnson | male   | 2 | 2 |\n",
       "| marcia | south | johnson | female | 4 | 4 |\n",
       "| jan    | north | smith   | female | 4 | 4 |\n",
       "| alice  | south | perry   | female | 5 | 4 |\n",
       "\n"
      ],
      "text/plain": [
       "  name   school teacher sex    math_score reading_score\n",
       "1 greg   south  johnson male   2          2            \n",
       "2 marcia south  johnson female 4          4            \n",
       "3 jan    north  smith   female 4          4            \n",
       "4 alice  south  perry   female 5          4            "
      ]
     },
     "metadata": {},
     "output_type": "display_data"
    }
   ],
   "source": [
    "scores %>%\n",
    "    filter(reading_score == 2 | reading_score == 3 | reading_score == 4)"
   ]
  },
  {
   "cell_type": "code",
   "execution_count": 25,
   "id": "55e37107-97ce-4bb3-a5c7-c453210e796a",
   "metadata": {
    "tags": []
   },
   "outputs": [
    {
     "data": {
      "text/html": [
       "<table class=\"dataframe\">\n",
       "<caption>A tibble: 4 × 6</caption>\n",
       "<thead>\n",
       "\t<tr><th scope=col>name</th><th scope=col>school</th><th scope=col>teacher</th><th scope=col>sex</th><th scope=col>math_score</th><th scope=col>reading_score</th></tr>\n",
       "\t<tr><th scope=col>&lt;chr&gt;</th><th scope=col>&lt;chr&gt;</th><th scope=col>&lt;chr&gt;</th><th scope=col>&lt;chr&gt;</th><th scope=col>&lt;dbl&gt;</th><th scope=col>&lt;dbl&gt;</th></tr>\n",
       "</thead>\n",
       "<tbody>\n",
       "\t<tr><td>greg  </td><td>south</td><td>johnson</td><td>male  </td><td>2</td><td>2</td></tr>\n",
       "\t<tr><td>marcia</td><td>south</td><td>johnson</td><td>female</td><td>4</td><td>4</td></tr>\n",
       "\t<tr><td>jan   </td><td>north</td><td>smith  </td><td>female</td><td>4</td><td>4</td></tr>\n",
       "\t<tr><td>alice </td><td>south</td><td>perry  </td><td>female</td><td>5</td><td>4</td></tr>\n",
       "</tbody>\n",
       "</table>\n"
      ],
      "text/latex": [
       "A tibble: 4 × 6\n",
       "\\begin{tabular}{llllll}\n",
       " name & school & teacher & sex & math\\_score & reading\\_score\\\\\n",
       " <chr> & <chr> & <chr> & <chr> & <dbl> & <dbl>\\\\\n",
       "\\hline\n",
       "\t greg   & south & johnson & male   & 2 & 2\\\\\n",
       "\t marcia & south & johnson & female & 4 & 4\\\\\n",
       "\t jan    & north & smith   & female & 4 & 4\\\\\n",
       "\t alice  & south & perry   & female & 5 & 4\\\\\n",
       "\\end{tabular}\n"
      ],
      "text/markdown": [
       "\n",
       "A tibble: 4 × 6\n",
       "\n",
       "| name &lt;chr&gt; | school &lt;chr&gt; | teacher &lt;chr&gt; | sex &lt;chr&gt; | math_score &lt;dbl&gt; | reading_score &lt;dbl&gt; |\n",
       "|---|---|---|---|---|---|\n",
       "| greg   | south | johnson | male   | 2 | 2 |\n",
       "| marcia | south | johnson | female | 4 | 4 |\n",
       "| jan    | north | smith   | female | 4 | 4 |\n",
       "| alice  | south | perry   | female | 5 | 4 |\n",
       "\n"
      ],
      "text/plain": [
       "  name   school teacher sex    math_score reading_score\n",
       "1 greg   south  johnson male   2          2            \n",
       "2 marcia south  johnson female 4          4            \n",
       "3 jan    north  smith   female 4          4            \n",
       "4 alice  south  perry   female 5          4            "
      ]
     },
     "metadata": {},
     "output_type": "display_data"
    }
   ],
   "source": [
    "scores %>%\n",
    "    filter(reading_score %in% 2:4)"
   ]
  },
  {
   "cell_type": "code",
   "execution_count": 28,
   "id": "f6aab710-76b6-4243-917f-bbc75830be2d",
   "metadata": {
    "tags": []
   },
   "outputs": [
    {
     "data": {
      "text/html": [
       "<table class=\"dataframe\">\n",
       "<caption>A tibble: 2 × 6</caption>\n",
       "<thead>\n",
       "\t<tr><th scope=col>name</th><th scope=col>school</th><th scope=col>teacher</th><th scope=col>sex</th><th scope=col>math_score</th><th scope=col>reading_score</th></tr>\n",
       "\t<tr><th scope=col>&lt;chr&gt;</th><th scope=col>&lt;chr&gt;</th><th scope=col>&lt;chr&gt;</th><th scope=col>&lt;chr&gt;</th><th scope=col>&lt;dbl&gt;</th><th scope=col>&lt;dbl&gt;</th></tr>\n",
       "</thead>\n",
       "<tbody>\n",
       "\t<tr><td>mike  </td><td>south</td><td>johnson</td><td>male  </td><td>4</td><td>1</td></tr>\n",
       "\t<tr><td>marcia</td><td>south</td><td>johnson</td><td>female</td><td>4</td><td>4</td></tr>\n",
       "</tbody>\n",
       "</table>\n"
      ],
      "text/latex": [
       "A tibble: 2 × 6\n",
       "\\begin{tabular}{llllll}\n",
       " name & school & teacher & sex & math\\_score & reading\\_score\\\\\n",
       " <chr> & <chr> & <chr> & <chr> & <dbl> & <dbl>\\\\\n",
       "\\hline\n",
       "\t mike   & south & johnson & male   & 4 & 1\\\\\n",
       "\t marcia & south & johnson & female & 4 & 4\\\\\n",
       "\\end{tabular}\n"
      ],
      "text/markdown": [
       "\n",
       "A tibble: 2 × 6\n",
       "\n",
       "| name &lt;chr&gt; | school &lt;chr&gt; | teacher &lt;chr&gt; | sex &lt;chr&gt; | math_score &lt;dbl&gt; | reading_score &lt;dbl&gt; |\n",
       "|---|---|---|---|---|---|\n",
       "| mike   | south | johnson | male   | 4 | 1 |\n",
       "| marcia | south | johnson | female | 4 | 4 |\n",
       "\n"
      ],
      "text/plain": [
       "  name   school teacher sex    math_score reading_score\n",
       "1 mike   south  johnson male   4          1            \n",
       "2 marcia south  johnson female 4          4            "
      ]
     },
     "metadata": {},
     "output_type": "display_data"
    }
   ],
   "source": [
    "scores %>%\n",
    "    filter(substr(name,1,1) == \"m\")"
   ]
  },
  {
   "cell_type": "code",
   "execution_count": 30,
   "id": "af503b12-0326-4052-9aff-bf130b050895",
   "metadata": {
    "tags": []
   },
   "outputs": [
    {
     "data": {
      "text/html": [
       "<table class=\"dataframe\">\n",
       "<caption>A grouped_df: 5 × 6</caption>\n",
       "<thead>\n",
       "\t<tr><th scope=col>name</th><th scope=col>school</th><th scope=col>teacher</th><th scope=col>sex</th><th scope=col>math_score</th><th scope=col>reading_score</th></tr>\n",
       "\t<tr><th scope=col>&lt;chr&gt;</th><th scope=col>&lt;chr&gt;</th><th scope=col>&lt;chr&gt;</th><th scope=col>&lt;chr&gt;</th><th scope=col>&lt;dbl&gt;</th><th scope=col>&lt;dbl&gt;</th></tr>\n",
       "</thead>\n",
       "<tbody>\n",
       "\t<tr><td>peter</td><td>north</td><td>smith</td><td>male  </td><td>3</td><td>5</td></tr>\n",
       "\t<tr><td>jan  </td><td>north</td><td>smith</td><td>female</td><td>4</td><td>4</td></tr>\n",
       "\t<tr><td>bobby</td><td>north</td><td>smith</td><td>male  </td><td>5</td><td>1</td></tr>\n",
       "\t<tr><td>cindy</td><td>south</td><td>perry</td><td>female</td><td>4</td><td>5</td></tr>\n",
       "\t<tr><td>alice</td><td>south</td><td>perry</td><td>female</td><td>5</td><td>4</td></tr>\n",
       "</tbody>\n",
       "</table>\n"
      ],
      "text/latex": [
       "A grouped\\_df: 5 × 6\n",
       "\\begin{tabular}{llllll}\n",
       " name & school & teacher & sex & math\\_score & reading\\_score\\\\\n",
       " <chr> & <chr> & <chr> & <chr> & <dbl> & <dbl>\\\\\n",
       "\\hline\n",
       "\t peter & north & smith & male   & 3 & 5\\\\\n",
       "\t jan   & north & smith & female & 4 & 4\\\\\n",
       "\t bobby & north & smith & male   & 5 & 1\\\\\n",
       "\t cindy & south & perry & female & 4 & 5\\\\\n",
       "\t alice & south & perry & female & 5 & 4\\\\\n",
       "\\end{tabular}\n"
      ],
      "text/markdown": [
       "\n",
       "A grouped_df: 5 × 6\n",
       "\n",
       "| name &lt;chr&gt; | school &lt;chr&gt; | teacher &lt;chr&gt; | sex &lt;chr&gt; | math_score &lt;dbl&gt; | reading_score &lt;dbl&gt; |\n",
       "|---|---|---|---|---|---|\n",
       "| peter | north | smith | male   | 3 | 5 |\n",
       "| jan   | north | smith | female | 4 | 4 |\n",
       "| bobby | north | smith | male   | 5 | 1 |\n",
       "| cindy | south | perry | female | 4 | 5 |\n",
       "| alice | south | perry | female | 5 | 4 |\n",
       "\n"
      ],
      "text/plain": [
       "  name  school teacher sex    math_score reading_score\n",
       "1 peter north  smith   male   3          5            \n",
       "2 jan   north  smith   female 4          4            \n",
       "3 bobby north  smith   male   5          1            \n",
       "4 cindy south  perry   female 4          5            \n",
       "5 alice south  perry   female 5          4            "
      ]
     },
     "metadata": {},
     "output_type": "display_data"
    }
   ],
   "source": [
    "scores %>%\n",
    "    group_by(teacher) %>%\n",
    "        filter(max(math_score) == 5)"
   ]
  },
  {
   "cell_type": "code",
   "execution_count": 32,
   "id": "b9073307-35a4-4fa4-b6b2-5435ac3b1a59",
   "metadata": {
    "tags": []
   },
   "outputs": [
    {
     "data": {
      "text/html": [
       "<table class=\"dataframe\">\n",
       "<caption>A grouped_df: 5 × 6</caption>\n",
       "<thead>\n",
       "\t<tr><th scope=col>name</th><th scope=col>school</th><th scope=col>teacher</th><th scope=col>sex</th><th scope=col>math_score</th><th scope=col>reading_score</th></tr>\n",
       "\t<tr><th scope=col>&lt;chr&gt;</th><th scope=col>&lt;chr&gt;</th><th scope=col>&lt;chr&gt;</th><th scope=col>&lt;chr&gt;</th><th scope=col>&lt;dbl&gt;</th><th scope=col>&lt;dbl&gt;</th></tr>\n",
       "</thead>\n",
       "<tbody>\n",
       "\t<tr><td>carol </td><td>south</td><td>johnson</td><td>female</td><td>3</td><td>5</td></tr>\n",
       "\t<tr><td>marcia</td><td>south</td><td>johnson</td><td>female</td><td>4</td><td>4</td></tr>\n",
       "\t<tr><td>jan   </td><td>north</td><td>smith  </td><td>female</td><td>4</td><td>4</td></tr>\n",
       "\t<tr><td>cindy </td><td>south</td><td>perry  </td><td>female</td><td>4</td><td>5</td></tr>\n",
       "\t<tr><td>alice </td><td>south</td><td>perry  </td><td>female</td><td>5</td><td>4</td></tr>\n",
       "</tbody>\n",
       "</table>\n"
      ],
      "text/latex": [
       "A grouped\\_df: 5 × 6\n",
       "\\begin{tabular}{llllll}\n",
       " name & school & teacher & sex & math\\_score & reading\\_score\\\\\n",
       " <chr> & <chr> & <chr> & <chr> & <dbl> & <dbl>\\\\\n",
       "\\hline\n",
       "\t carol  & south & johnson & female & 3 & 5\\\\\n",
       "\t marcia & south & johnson & female & 4 & 4\\\\\n",
       "\t jan    & north & smith   & female & 4 & 4\\\\\n",
       "\t cindy  & south & perry   & female & 4 & 5\\\\\n",
       "\t alice  & south & perry   & female & 5 & 4\\\\\n",
       "\\end{tabular}\n"
      ],
      "text/markdown": [
       "\n",
       "A grouped_df: 5 × 6\n",
       "\n",
       "| name &lt;chr&gt; | school &lt;chr&gt; | teacher &lt;chr&gt; | sex &lt;chr&gt; | math_score &lt;dbl&gt; | reading_score &lt;dbl&gt; |\n",
       "|---|---|---|---|---|---|\n",
       "| carol  | south | johnson | female | 3 | 5 |\n",
       "| marcia | south | johnson | female | 4 | 4 |\n",
       "| jan    | north | smith   | female | 4 | 4 |\n",
       "| cindy  | south | perry   | female | 4 | 5 |\n",
       "| alice  | south | perry   | female | 5 | 4 |\n",
       "\n"
      ],
      "text/plain": [
       "  name   school teacher sex    math_score reading_score\n",
       "1 carol  south  johnson female 3          5            \n",
       "2 marcia south  johnson female 4          4            \n",
       "3 jan    north  smith   female 4          4            \n",
       "4 cindy  south  perry   female 4          5            \n",
       "5 alice  south  perry   female 5          4            "
      ]
     },
     "metadata": {},
     "output_type": "display_data"
    }
   ],
   "source": [
    "scores %>%\n",
    "    group_by(sex) %>%\n",
    "        filter(mean(math_score) == 4)"
   ]
  },
  {
   "cell_type": "code",
   "execution_count": 35,
   "id": "c5a9a430-60c3-4a5d-a329-c648ff07c67b",
   "metadata": {
    "tags": []
   },
   "outputs": [],
   "source": [
    "scores$math_score = scores$math_score * 10\n",
    "scores$reading_score = scores$reading_score * 10"
   ]
  },
  {
   "cell_type": "code",
   "execution_count": 37,
   "id": "72118b12-09a2-41c9-b5c1-2f623acc72a3",
   "metadata": {
    "tags": []
   },
   "outputs": [
    {
     "data": {
      "text/html": [
       "<table class=\"dataframe\">\n",
       "<caption>A tibble: 9 × 7</caption>\n",
       "<thead>\n",
       "\t<tr><th scope=col>name</th><th scope=col>school</th><th scope=col>teacher</th><th scope=col>sex</th><th scope=col>math_score</th><th scope=col>reading_score</th><th scope=col>math_reading_avg</th></tr>\n",
       "\t<tr><th scope=col>&lt;chr&gt;</th><th scope=col>&lt;chr&gt;</th><th scope=col>&lt;chr&gt;</th><th scope=col>&lt;chr&gt;</th><th scope=col>&lt;dbl&gt;</th><th scope=col>&lt;dbl&gt;</th><th scope=col>&lt;dbl&gt;</th></tr>\n",
       "</thead>\n",
       "<tbody>\n",
       "\t<tr><td>mike  </td><td>south</td><td>johnson</td><td>male  </td><td>400</td><td>10</td><td>205</td></tr>\n",
       "\t<tr><td>carol </td><td>south</td><td>johnson</td><td>female</td><td>300</td><td>50</td><td>175</td></tr>\n",
       "\t<tr><td>greg  </td><td>south</td><td>johnson</td><td>male  </td><td>200</td><td>20</td><td>110</td></tr>\n",
       "\t<tr><td>marcia</td><td>south</td><td>johnson</td><td>female</td><td>400</td><td>40</td><td>220</td></tr>\n",
       "\t<tr><td>peter </td><td>north</td><td>smith  </td><td>male  </td><td>300</td><td>50</td><td>175</td></tr>\n",
       "\t<tr><td>jan   </td><td>north</td><td>smith  </td><td>female</td><td>400</td><td>40</td><td>220</td></tr>\n",
       "\t<tr><td>bobby </td><td>north</td><td>smith  </td><td>male  </td><td>500</td><td>10</td><td>255</td></tr>\n",
       "\t<tr><td>cindy </td><td>south</td><td>perry  </td><td>female</td><td>400</td><td>50</td><td>225</td></tr>\n",
       "\t<tr><td>alice </td><td>south</td><td>perry  </td><td>female</td><td>500</td><td>40</td><td>270</td></tr>\n",
       "</tbody>\n",
       "</table>\n"
      ],
      "text/latex": [
       "A tibble: 9 × 7\n",
       "\\begin{tabular}{lllllll}\n",
       " name & school & teacher & sex & math\\_score & reading\\_score & math\\_reading\\_avg\\\\\n",
       " <chr> & <chr> & <chr> & <chr> & <dbl> & <dbl> & <dbl>\\\\\n",
       "\\hline\n",
       "\t mike   & south & johnson & male   & 400 & 10 & 205\\\\\n",
       "\t carol  & south & johnson & female & 300 & 50 & 175\\\\\n",
       "\t greg   & south & johnson & male   & 200 & 20 & 110\\\\\n",
       "\t marcia & south & johnson & female & 400 & 40 & 220\\\\\n",
       "\t peter  & north & smith   & male   & 300 & 50 & 175\\\\\n",
       "\t jan    & north & smith   & female & 400 & 40 & 220\\\\\n",
       "\t bobby  & north & smith   & male   & 500 & 10 & 255\\\\\n",
       "\t cindy  & south & perry   & female & 400 & 50 & 225\\\\\n",
       "\t alice  & south & perry   & female & 500 & 40 & 270\\\\\n",
       "\\end{tabular}\n"
      ],
      "text/markdown": [
       "\n",
       "A tibble: 9 × 7\n",
       "\n",
       "| name &lt;chr&gt; | school &lt;chr&gt; | teacher &lt;chr&gt; | sex &lt;chr&gt; | math_score &lt;dbl&gt; | reading_score &lt;dbl&gt; | math_reading_avg &lt;dbl&gt; |\n",
       "|---|---|---|---|---|---|---|\n",
       "| mike   | south | johnson | male   | 400 | 10 | 205 |\n",
       "| carol  | south | johnson | female | 300 | 50 | 175 |\n",
       "| greg   | south | johnson | male   | 200 | 20 | 110 |\n",
       "| marcia | south | johnson | female | 400 | 40 | 220 |\n",
       "| peter  | north | smith   | male   | 300 | 50 | 175 |\n",
       "| jan    | north | smith   | female | 400 | 40 | 220 |\n",
       "| bobby  | north | smith   | male   | 500 | 10 | 255 |\n",
       "| cindy  | south | perry   | female | 400 | 50 | 225 |\n",
       "| alice  | south | perry   | female | 500 | 40 | 270 |\n",
       "\n"
      ],
      "text/plain": [
       "  name   school teacher sex    math_score reading_score math_reading_avg\n",
       "1 mike   south  johnson male   400        10            205             \n",
       "2 carol  south  johnson female 300        50            175             \n",
       "3 greg   south  johnson male   200        20            110             \n",
       "4 marcia south  johnson female 400        40            220             \n",
       "5 peter  north  smith   male   300        50            175             \n",
       "6 jan    north  smith   female 400        40            220             \n",
       "7 bobby  north  smith   male   500        10            255             \n",
       "8 cindy  south  perry   female 400        50            225             \n",
       "9 alice  south  perry   female 500        40            270             "
      ]
     },
     "metadata": {},
     "output_type": "display_data"
    }
   ],
   "source": [
    "scores %>%\n",
    "    mutate(math_reading_avg = (math_score +reading_score) / 2)"
   ]
  },
  {
   "cell_type": "code",
   "execution_count": 38,
   "id": "2c1cc2f6-d782-4c47-9a07-be16e5d0941f",
   "metadata": {
    "tags": []
   },
   "outputs": [
    {
     "data": {
      "text/html": [
       "<table class=\"dataframe\">\n",
       "<caption>A tibble: 9 × 7</caption>\n",
       "<thead>\n",
       "\t<tr><th scope=col>name</th><th scope=col>school</th><th scope=col>teacher</th><th scope=col>sex</th><th scope=col>math_score</th><th scope=col>reading_score</th><th scope=col>high_math_achiever</th></tr>\n",
       "\t<tr><th scope=col>&lt;chr&gt;</th><th scope=col>&lt;chr&gt;</th><th scope=col>&lt;chr&gt;</th><th scope=col>&lt;chr&gt;</th><th scope=col>&lt;dbl&gt;</th><th scope=col>&lt;dbl&gt;</th><th scope=col>&lt;lgl&gt;</th></tr>\n",
       "</thead>\n",
       "<tbody>\n",
       "\t<tr><td>mike  </td><td>south</td><td>johnson</td><td>male  </td><td>400</td><td>10</td><td>TRUE</td></tr>\n",
       "\t<tr><td>carol </td><td>south</td><td>johnson</td><td>female</td><td>300</td><td>50</td><td>TRUE</td></tr>\n",
       "\t<tr><td>greg  </td><td>south</td><td>johnson</td><td>male  </td><td>200</td><td>20</td><td>TRUE</td></tr>\n",
       "\t<tr><td>marcia</td><td>south</td><td>johnson</td><td>female</td><td>400</td><td>40</td><td>TRUE</td></tr>\n",
       "\t<tr><td>peter </td><td>north</td><td>smith  </td><td>male  </td><td>300</td><td>50</td><td>TRUE</td></tr>\n",
       "\t<tr><td>jan   </td><td>north</td><td>smith  </td><td>female</td><td>400</td><td>40</td><td>TRUE</td></tr>\n",
       "\t<tr><td>bobby </td><td>north</td><td>smith  </td><td>male  </td><td>500</td><td>10</td><td>TRUE</td></tr>\n",
       "\t<tr><td>cindy </td><td>south</td><td>perry  </td><td>female</td><td>400</td><td>50</td><td>TRUE</td></tr>\n",
       "\t<tr><td>alice </td><td>south</td><td>perry  </td><td>female</td><td>500</td><td>40</td><td>TRUE</td></tr>\n",
       "</tbody>\n",
       "</table>\n"
      ],
      "text/latex": [
       "A tibble: 9 × 7\n",
       "\\begin{tabular}{lllllll}\n",
       " name & school & teacher & sex & math\\_score & reading\\_score & high\\_math\\_achiever\\\\\n",
       " <chr> & <chr> & <chr> & <chr> & <dbl> & <dbl> & <lgl>\\\\\n",
       "\\hline\n",
       "\t mike   & south & johnson & male   & 400 & 10 & TRUE\\\\\n",
       "\t carol  & south & johnson & female & 300 & 50 & TRUE\\\\\n",
       "\t greg   & south & johnson & male   & 200 & 20 & TRUE\\\\\n",
       "\t marcia & south & johnson & female & 400 & 40 & TRUE\\\\\n",
       "\t peter  & north & smith   & male   & 300 & 50 & TRUE\\\\\n",
       "\t jan    & north & smith   & female & 400 & 40 & TRUE\\\\\n",
       "\t bobby  & north & smith   & male   & 500 & 10 & TRUE\\\\\n",
       "\t cindy  & south & perry   & female & 400 & 50 & TRUE\\\\\n",
       "\t alice  & south & perry   & female & 500 & 40 & TRUE\\\\\n",
       "\\end{tabular}\n"
      ],
      "text/markdown": [
       "\n",
       "A tibble: 9 × 7\n",
       "\n",
       "| name &lt;chr&gt; | school &lt;chr&gt; | teacher &lt;chr&gt; | sex &lt;chr&gt; | math_score &lt;dbl&gt; | reading_score &lt;dbl&gt; | high_math_achiever &lt;lgl&gt; |\n",
       "|---|---|---|---|---|---|---|\n",
       "| mike   | south | johnson | male   | 400 | 10 | TRUE |\n",
       "| carol  | south | johnson | female | 300 | 50 | TRUE |\n",
       "| greg   | south | johnson | male   | 200 | 20 | TRUE |\n",
       "| marcia | south | johnson | female | 400 | 40 | TRUE |\n",
       "| peter  | north | smith   | male   | 300 | 50 | TRUE |\n",
       "| jan    | north | smith   | female | 400 | 40 | TRUE |\n",
       "| bobby  | north | smith   | male   | 500 | 10 | TRUE |\n",
       "| cindy  | south | perry   | female | 400 | 50 | TRUE |\n",
       "| alice  | south | perry   | female | 500 | 40 | TRUE |\n",
       "\n"
      ],
      "text/plain": [
       "  name   school teacher sex    math_score reading_score high_math_achiever\n",
       "1 mike   south  johnson male   400        10            TRUE              \n",
       "2 carol  south  johnson female 300        50            TRUE              \n",
       "3 greg   south  johnson male   200        20            TRUE              \n",
       "4 marcia south  johnson female 400        40            TRUE              \n",
       "5 peter  north  smith   male   300        50            TRUE              \n",
       "6 jan    north  smith   female 400        40            TRUE              \n",
       "7 bobby  north  smith   male   500        10            TRUE              \n",
       "8 cindy  south  perry   female 400        50            TRUE              \n",
       "9 alice  south  perry   female 500        40            TRUE              "
      ]
     },
     "metadata": {},
     "output_type": "display_data"
    }
   ],
   "source": [
    "scores %>%\n",
    "    mutate(high_math_achiever = math_score >= 4)"
   ]
  },
  {
   "cell_type": "code",
   "execution_count": 39,
   "id": "632ef2fe-41e7-4d2e-8308-dd6a4d252728",
   "metadata": {
    "tags": []
   },
   "outputs": [
    {
     "data": {
      "text/html": [
       "<table class=\"dataframe\">\n",
       "<caption>A tibble: 9 × 7</caption>\n",
       "<thead>\n",
       "\t<tr><th scope=col>name</th><th scope=col>school</th><th scope=col>teacher</th><th scope=col>sex</th><th scope=col>math_score</th><th scope=col>reading_score</th><th scope=col>reading_score_centered</th></tr>\n",
       "\t<tr><th scope=col>&lt;chr&gt;</th><th scope=col>&lt;chr&gt;</th><th scope=col>&lt;chr&gt;</th><th scope=col>&lt;chr&gt;</th><th scope=col>&lt;dbl&gt;</th><th scope=col>&lt;dbl&gt;</th><th scope=col>&lt;dbl&gt;</th></tr>\n",
       "</thead>\n",
       "<tbody>\n",
       "\t<tr><td>mike  </td><td>south</td><td>johnson</td><td>male  </td><td>400</td><td>10</td><td>-24.444444</td></tr>\n",
       "\t<tr><td>carol </td><td>south</td><td>johnson</td><td>female</td><td>300</td><td>50</td><td> 15.555556</td></tr>\n",
       "\t<tr><td>greg  </td><td>south</td><td>johnson</td><td>male  </td><td>200</td><td>20</td><td>-14.444444</td></tr>\n",
       "\t<tr><td>marcia</td><td>south</td><td>johnson</td><td>female</td><td>400</td><td>40</td><td>  5.555556</td></tr>\n",
       "\t<tr><td>peter </td><td>north</td><td>smith  </td><td>male  </td><td>300</td><td>50</td><td> 15.555556</td></tr>\n",
       "\t<tr><td>jan   </td><td>north</td><td>smith  </td><td>female</td><td>400</td><td>40</td><td>  5.555556</td></tr>\n",
       "\t<tr><td>bobby </td><td>north</td><td>smith  </td><td>male  </td><td>500</td><td>10</td><td>-24.444444</td></tr>\n",
       "\t<tr><td>cindy </td><td>south</td><td>perry  </td><td>female</td><td>400</td><td>50</td><td> 15.555556</td></tr>\n",
       "\t<tr><td>alice </td><td>south</td><td>perry  </td><td>female</td><td>500</td><td>40</td><td>  5.555556</td></tr>\n",
       "</tbody>\n",
       "</table>\n"
      ],
      "text/latex": [
       "A tibble: 9 × 7\n",
       "\\begin{tabular}{lllllll}\n",
       " name & school & teacher & sex & math\\_score & reading\\_score & reading\\_score\\_centered\\\\\n",
       " <chr> & <chr> & <chr> & <chr> & <dbl> & <dbl> & <dbl>\\\\\n",
       "\\hline\n",
       "\t mike   & south & johnson & male   & 400 & 10 & -24.444444\\\\\n",
       "\t carol  & south & johnson & female & 300 & 50 &  15.555556\\\\\n",
       "\t greg   & south & johnson & male   & 200 & 20 & -14.444444\\\\\n",
       "\t marcia & south & johnson & female & 400 & 40 &   5.555556\\\\\n",
       "\t peter  & north & smith   & male   & 300 & 50 &  15.555556\\\\\n",
       "\t jan    & north & smith   & female & 400 & 40 &   5.555556\\\\\n",
       "\t bobby  & north & smith   & male   & 500 & 10 & -24.444444\\\\\n",
       "\t cindy  & south & perry   & female & 400 & 50 &  15.555556\\\\\n",
       "\t alice  & south & perry   & female & 500 & 40 &   5.555556\\\\\n",
       "\\end{tabular}\n"
      ],
      "text/markdown": [
       "\n",
       "A tibble: 9 × 7\n",
       "\n",
       "| name &lt;chr&gt; | school &lt;chr&gt; | teacher &lt;chr&gt; | sex &lt;chr&gt; | math_score &lt;dbl&gt; | reading_score &lt;dbl&gt; | reading_score_centered &lt;dbl&gt; |\n",
       "|---|---|---|---|---|---|---|\n",
       "| mike   | south | johnson | male   | 400 | 10 | -24.444444 |\n",
       "| carol  | south | johnson | female | 300 | 50 |  15.555556 |\n",
       "| greg   | south | johnson | male   | 200 | 20 | -14.444444 |\n",
       "| marcia | south | johnson | female | 400 | 40 |   5.555556 |\n",
       "| peter  | north | smith   | male   | 300 | 50 |  15.555556 |\n",
       "| jan    | north | smith   | female | 400 | 40 |   5.555556 |\n",
       "| bobby  | north | smith   | male   | 500 | 10 | -24.444444 |\n",
       "| cindy  | south | perry   | female | 400 | 50 |  15.555556 |\n",
       "| alice  | south | perry   | female | 500 | 40 |   5.555556 |\n",
       "\n"
      ],
      "text/plain": [
       "  name   school teacher sex    math_score reading_score reading_score_centered\n",
       "1 mike   south  johnson male   400        10            -24.444444            \n",
       "2 carol  south  johnson female 300        50             15.555556            \n",
       "3 greg   south  johnson male   200        20            -14.444444            \n",
       "4 marcia south  johnson female 400        40              5.555556            \n",
       "5 peter  north  smith   male   300        50             15.555556            \n",
       "6 jan    north  smith   female 400        40              5.555556            \n",
       "7 bobby  north  smith   male   500        10            -24.444444            \n",
       "8 cindy  south  perry   female 400        50             15.555556            \n",
       "9 alice  south  perry   female 500        40              5.555556            "
      ]
     },
     "metadata": {},
     "output_type": "display_data"
    }
   ],
   "source": [
    "scores %>%\n",
    "    mutate(reading_score_centered = reading_score - mean(reading_score))"
   ]
  },
  {
   "cell_type": "code",
   "execution_count": 40,
   "id": "04853a30-fe61-40f9-b4f7-08f10b392634",
   "metadata": {
    "tags": []
   },
   "outputs": [
    {
     "data": {
      "text/html": [
       "<table class=\"dataframe\">\n",
       "<caption>A grouped_df: 9 × 7</caption>\n",
       "<thead>\n",
       "\t<tr><th scope=col>name</th><th scope=col>school</th><th scope=col>teacher</th><th scope=col>sex</th><th scope=col>math_score</th><th scope=col>reading_score</th><th scope=col>math_score_centered_by_sex</th></tr>\n",
       "\t<tr><th scope=col>&lt;chr&gt;</th><th scope=col>&lt;chr&gt;</th><th scope=col>&lt;chr&gt;</th><th scope=col>&lt;chr&gt;</th><th scope=col>&lt;dbl&gt;</th><th scope=col>&lt;dbl&gt;</th><th scope=col>&lt;dbl&gt;</th></tr>\n",
       "</thead>\n",
       "<tbody>\n",
       "\t<tr><td>bobby </td><td>north</td><td>smith  </td><td>male  </td><td>500</td><td>10</td><td> 150</td></tr>\n",
       "\t<tr><td>alice </td><td>south</td><td>perry  </td><td>female</td><td>500</td><td>40</td><td> 100</td></tr>\n",
       "\t<tr><td>mike  </td><td>south</td><td>johnson</td><td>male  </td><td>400</td><td>10</td><td>  50</td></tr>\n",
       "\t<tr><td>marcia</td><td>south</td><td>johnson</td><td>female</td><td>400</td><td>40</td><td>   0</td></tr>\n",
       "\t<tr><td>jan   </td><td>north</td><td>smith  </td><td>female</td><td>400</td><td>40</td><td>   0</td></tr>\n",
       "\t<tr><td>cindy </td><td>south</td><td>perry  </td><td>female</td><td>400</td><td>50</td><td>   0</td></tr>\n",
       "\t<tr><td>peter </td><td>north</td><td>smith  </td><td>male  </td><td>300</td><td>50</td><td> -50</td></tr>\n",
       "\t<tr><td>carol </td><td>south</td><td>johnson</td><td>female</td><td>300</td><td>50</td><td>-100</td></tr>\n",
       "\t<tr><td>greg  </td><td>south</td><td>johnson</td><td>male  </td><td>200</td><td>20</td><td>-150</td></tr>\n",
       "</tbody>\n",
       "</table>\n"
      ],
      "text/latex": [
       "A grouped\\_df: 9 × 7\n",
       "\\begin{tabular}{lllllll}\n",
       " name & school & teacher & sex & math\\_score & reading\\_score & math\\_score\\_centered\\_by\\_sex\\\\\n",
       " <chr> & <chr> & <chr> & <chr> & <dbl> & <dbl> & <dbl>\\\\\n",
       "\\hline\n",
       "\t bobby  & north & smith   & male   & 500 & 10 &  150\\\\\n",
       "\t alice  & south & perry   & female & 500 & 40 &  100\\\\\n",
       "\t mike   & south & johnson & male   & 400 & 10 &   50\\\\\n",
       "\t marcia & south & johnson & female & 400 & 40 &    0\\\\\n",
       "\t jan    & north & smith   & female & 400 & 40 &    0\\\\\n",
       "\t cindy  & south & perry   & female & 400 & 50 &    0\\\\\n",
       "\t peter  & north & smith   & male   & 300 & 50 &  -50\\\\\n",
       "\t carol  & south & johnson & female & 300 & 50 & -100\\\\\n",
       "\t greg   & south & johnson & male   & 200 & 20 & -150\\\\\n",
       "\\end{tabular}\n"
      ],
      "text/markdown": [
       "\n",
       "A grouped_df: 9 × 7\n",
       "\n",
       "| name &lt;chr&gt; | school &lt;chr&gt; | teacher &lt;chr&gt; | sex &lt;chr&gt; | math_score &lt;dbl&gt; | reading_score &lt;dbl&gt; | math_score_centered_by_sex &lt;dbl&gt; |\n",
       "|---|---|---|---|---|---|---|\n",
       "| bobby  | north | smith   | male   | 500 | 10 |  150 |\n",
       "| alice  | south | perry   | female | 500 | 40 |  100 |\n",
       "| mike   | south | johnson | male   | 400 | 10 |   50 |\n",
       "| marcia | south | johnson | female | 400 | 40 |    0 |\n",
       "| jan    | north | smith   | female | 400 | 40 |    0 |\n",
       "| cindy  | south | perry   | female | 400 | 50 |    0 |\n",
       "| peter  | north | smith   | male   | 300 | 50 |  -50 |\n",
       "| carol  | south | johnson | female | 300 | 50 | -100 |\n",
       "| greg   | south | johnson | male   | 200 | 20 | -150 |\n",
       "\n"
      ],
      "text/plain": [
       "  name   school teacher sex    math_score reading_score\n",
       "1 bobby  north  smith   male   500        10           \n",
       "2 alice  south  perry   female 500        40           \n",
       "3 mike   south  johnson male   400        10           \n",
       "4 marcia south  johnson female 400        40           \n",
       "5 jan    north  smith   female 400        40           \n",
       "6 cindy  south  perry   female 400        50           \n",
       "7 peter  north  smith   male   300        50           \n",
       "8 carol  south  johnson female 300        50           \n",
       "9 greg   south  johnson male   200        20           \n",
       "  math_score_centered_by_sex\n",
       "1  150                      \n",
       "2  100                      \n",
       "3   50                      \n",
       "4    0                      \n",
       "5    0                      \n",
       "6    0                      \n",
       "7  -50                      \n",
       "8 -100                      \n",
       "9 -150                      "
      ]
     },
     "metadata": {},
     "output_type": "display_data"
    }
   ],
   "source": [
    "scores %>%\n",
    "    group_by(sex) %>%\n",
    "    mutate(math_score_centered_by_sex = math_score - mean(math_score)) %>%\n",
    "    arrange(desc(math_score_centered_by_sex))"
   ]
  }
 ],
 "metadata": {
  "kernelspec": {
   "display_name": "R 4.4.1",
   "language": "R",
   "name": "r-4.4.1"
  },
  "language_info": {
   "codemirror_mode": "r",
   "file_extension": ".r",
   "mimetype": "text/x-r-source",
   "name": "R",
   "pygments_lexer": "r",
   "version": "4.4.1"
  }
 },
 "nbformat": 4,
 "nbformat_minor": 5
}
